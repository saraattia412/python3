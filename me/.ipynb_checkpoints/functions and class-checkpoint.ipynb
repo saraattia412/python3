{
 "cells": [
  {
   "cell_type": "code",
   "execution_count": 1,
   "metadata": {},
   "outputs": [
    {
     "name": "stdout",
     "output_type": "stream",
     "text": [
      "**\n",
      "**\n",
      "**\n",
      "**\n",
      "**\n",
      "**\n",
      "**\n",
      "**\n",
      "**\n",
      "**\n"
     ]
    }
   ],
   "source": [
    "def star() :\n",
    "    for h in range(10) :\n",
    "        print ('**')\n",
    "star()\n"
   ]
  },
  {
   "cell_type": "code",
   "execution_count": 2,
   "metadata": {},
   "outputs": [
    {
     "name": "stdout",
     "output_type": "stream",
     "text": [
      "25\n"
     ]
    }
   ],
   "source": [
    "def squre(a):\n",
    "    a=a**2\n",
    "    print(a)\n",
    "squre(5)"
   ]
  },
  {
   "cell_type": "code",
   "execution_count": 3,
   "metadata": {},
   "outputs": [
    {
     "name": "stdout",
     "output_type": "stream",
     "text": [
      "4\n",
      "4\n",
      "1.0\n"
     ]
    }
   ],
   "source": [
    "def math_(a,b,c):\n",
    "    a=a+a\n",
    "    print(a)\n",
    "    b=b*b\n",
    "    print(b)\n",
    "    c=c/c\n",
    "    print(c)\n",
    "math_(2,2,2)"
   ]
  },
  {
   "cell_type": "code",
   "execution_count": null,
   "metadata": {},
   "outputs": [],
   "source": [
    "def even_odd(a):\n",
    "    if a%2==0:\n",
    "        print(str(a)+' '+'is even number')\n",
    "    elif a%2 !=0:\n",
    "        print(str(a)+' '+'is odd number')\n",
    "even_odd(int(input('enter number:')))"
   ]
  },
  {
   "cell_type": "code",
   "execution_count": null,
   "metadata": {},
   "outputs": [],
   "source": [
    "def func():\n",
    "    for i in range(int(input('enter len: '))):\n",
    "        print('*')\n",
    "    print('end')\n",
    "func()"
   ]
  },
  {
   "cell_type": "code",
   "execution_count": 2,
   "metadata": {},
   "outputs": [
    {
     "name": "stdout",
     "output_type": "stream",
     "text": [
      "sum = 5\n"
     ]
    }
   ],
   "source": [
    "def sumnumber(a,b):\n",
    "    sum=a+b\n",
    "    print('sum = '+str(sum))\n",
    "object_=sumnumber(2,3)#اكني خد اوبجيكت من الفانكشن زي الكلاس بظبط\n",
    "object_"
   ]
  },
  {
   "cell_type": "code",
   "execution_count": 12,
   "metadata": {},
   "outputs": [
    {
     "name": "stdout",
     "output_type": "stream",
     "text": [
      "\n",
      "*\n",
      "**\n",
      "***\n",
      "****\n"
     ]
    }
   ],
   "source": [
    "#by hapipy^-^\n",
    "def star_():\n",
    "    for i in range(5):\n",
    "        for j in range(i):\n",
    "            print('*',end='')\n",
    "        print()\n",
    "star_()"
   ]
  },
  {
   "cell_type": "code",
   "execution_count": 13,
   "metadata": {},
   "outputs": [
    {
     "name": "stdout",
     "output_type": "stream",
     "text": [
      "average is  2.5\n"
     ]
    }
   ],
   "source": [
    "def find_avg(a,b):\n",
    "    average = (a+b)/2\n",
    "    print (\"average is \",average)\n",
    "find_avg(2,3)\n"
   ]
  },
  {
   "cell_type": "code",
   "execution_count": 18,
   "metadata": {},
   "outputs": [
    {
     "name": "stdout",
     "output_type": "stream",
     "text": [
      "sum number = 21\n",
      "average = 3.5\n",
      "---\n",
      "sum number = 277\n",
      "average = 46.166666666666664\n"
     ]
    }
   ],
   "source": [
    "def avr_(*numbers):\n",
    "    sum=0\n",
    "    for i in numbers:\n",
    "        sum=sum+i\n",
    "    print('sum number = '+str(sum))\n",
    "    print('average = '+str(sum/len(numbers)))\n",
    "avr_(1,2,3,4,5,6)\n",
    "print('---')\n",
    "x=[55,10,66,88,13,45]\n",
    "avr_(*x)\n"
   ]
  },
  {
   "cell_type": "code",
   "execution_count": 19,
   "metadata": {},
   "outputs": [
    {
     "name": "stdout",
     "output_type": "stream",
     "text": [
      "1.5\n",
      "2.0\n"
     ]
    }
   ],
   "source": [
    "def avg_of_two(a,b):\n",
    "    print ((a+b)/2)\n",
    "def avg_of_three(a,b,c):\n",
    "    print ((a+b+c)/3)\n",
    "var1 = (1,2)\n",
    "avg_of_two(*var1)\n",
    "var2 = (1,2,3)\n",
    "avg_of_three(*var2)#طريقه خرا"
   ]
  },
  {
   "cell_type": "code",
   "execution_count": 20,
   "metadata": {},
   "outputs": [
    {
     "name": "stdout",
     "output_type": "stream",
     "text": [
      "first normal arg: ahmed\n",
      "another arg through *argv : mohamed\n",
      "another arg through *argv : mona\n",
      "another arg through *argv : sameh\n"
     ]
    }
   ],
   "source": [
    "def test_var_args(f_arg, *argv):\n",
    "    print (\"first normal arg:\", f_arg)\n",
    "    for arg in argv:\n",
    "        print (\"another arg through *argv :\", arg)\n",
    "test_var_args('ahmed','mohamed','mona','sameh')"
   ]
  },
  {
   "cell_type": "code",
   "execution_count": 31,
   "metadata": {},
   "outputs": [
    {
     "name": "stdout",
     "output_type": "stream",
     "text": [
      "number= (2, 5, 6, 3, 1, 10)\n",
      "\n",
      "number= (2, 5, 6, 3, 1, 10)\n",
      "\n",
      "number= (2, 5, 6, 3, 1, 10)\n",
      "\n",
      "number= (2, 5, 6, 3, 1, 10)\n",
      "\n",
      "number= (2, 5, 6, 3, 1, 10)\n",
      "\n",
      "number= (2, 5, 6, 3, 1, 10)\n",
      "\n",
      "done\n"
     ]
    }
   ],
   "source": [
    "def tested(*number):\n",
    "    for i in range(len(number)):\n",
    "        print('number= '+str(number))\n",
    "        print()\n",
    "        \n",
    "    print('done')\n",
    "tested(2,5,6,3,1,10)"
   ]
  },
  {
   "cell_type": "code",
   "execution_count": 32,
   "metadata": {},
   "outputs": [
    {
     "name": "stdout",
     "output_type": "stream",
     "text": [
      "{'one': 1, 'two': 2}\n"
     ]
    }
   ],
   "source": [
    "def print_values(**values):#dict\n",
    "    print (values)\n",
    "print_values(one = 1, two = 2)"
   ]
  },
  {
   "cell_type": "code",
   "execution_count": 35,
   "metadata": {},
   "outputs": [
    {
     "name": "stdout",
     "output_type": "stream",
     "text": [
      "one = 1\n",
      "two = 2\n",
      "three = 3\n",
      "four = 4\n",
      "five = 5\n"
     ]
    }
   ],
   "source": [
    "def print_value(**values):\n",
    "    for key, value in values.items():\n",
    "        print(\"{} = {}\".format(key,value))\n",
    "print_value(one = 1,two = 2,three = 3,four = 4,five = 5)"
   ]
  },
  {
   "cell_type": "code",
   "execution_count": 36,
   "metadata": {},
   "outputs": [
    {
     "name": "stdout",
     "output_type": "stream",
     "text": [
      "1 = 1\n",
      "2 = 4\n",
      "3 = 9\n",
      "4 = 16\n",
      "5 = 25\n"
     ]
    }
   ],
   "source": [
    "def print_value(**values):\n",
    "    for key, value in values.items():\n",
    "        print(\"{} = {}\".format(value,value**2))\n",
    "print_value(one = 1,two = 2,three = 3,four = 4,five = 5)"
   ]
  },
  {
   "cell_type": "code",
   "execution_count": 43,
   "metadata": {},
   "outputs": [
    {
     "name": "stdout",
     "output_type": "stream",
     "text": [
      "name == sara atia\n",
      "age == 21\n",
      "uni == zazig\n",
      "l == \n"
     ]
    }
   ],
   "source": [
    "def greet_me(**kwargs):\n",
    "    if kwargs is not None:\n",
    "        for key, value in kwargs.items():\n",
    "            print (\"%s == %s\" %(key,value))\n",
    "greet_me(name=\"sara atia\",age='21',uni='zazig',l='')"
   ]
  },
  {
   "cell_type": "code",
   "execution_count": 44,
   "metadata": {},
   "outputs": [
    {
     "name": "stdout",
     "output_type": "stream",
     "text": [
      "1.5\n",
      "2.0\n"
     ]
    }
   ],
   "source": [
    "def avg_of_two(a,b):\n",
    "    print ((a+b)/2)#averge\n",
    "def avg_of_three(a,b,c):\n",
    "    print ((a+b+c)/3)\n",
    "var1 = {'a':1,'b':2}\n",
    "#sum value only\n",
    "avg_of_two(**var1)#(1+2)/2\n",
    "var2 = {'a':1,'b':2,'c':3}\n",
    "avg_of_three(**var2)#(1+2+3)/3"
   ]
  },
  {
   "cell_type": "code",
   "execution_count": 46,
   "metadata": {},
   "outputs": [
    {
     "name": "stdout",
     "output_type": "stream",
     "text": [
      "a is  1\n",
      "b is  2\n",
      "args is  (3, 4, 5, 6, 7, 8, 9)\n",
      "kwargs is  {}\n",
      "-----------\n",
      "a is  1\n",
      "b is  2\n",
      "args is  (3, 4, 5, 6)\n",
      "kwargs is  {'c': 7, 'd': 8, 'e': 9}\n",
      "-----------\n",
      "a is  2\n",
      "b is  4\n",
      "args is  ()\n",
      "kwargs is  {'key': 1, 'value': 2}\n"
     ]
    }
   ],
   "source": [
    "def show_details(a,b,*args,**kwargs):#*args-->more value (list),**kwargs--->dict\n",
    "    print(\"a is \",a)\n",
    "    print(\"b is \",b)\n",
    "    print(\"args is \",args)\n",
    "    print(\"kwargs is \",kwargs)\n",
    "show_details(1,2,3,4,5,6,7,8,9)\n",
    "print(\"-----------\")\n",
    "show_details(1,2,3,4,5,6,c= 7,d = 8,e = 9)\n",
    "print(\"-----------\")\n",
    "show_details(2,4,key=1,value=2)"
   ]
  },
  {
   "cell_type": "code",
   "execution_count": 47,
   "metadata": {},
   "outputs": [
    {
     "name": "stdout",
     "output_type": "stream",
     "text": [
      "arg1: two\n",
      "arg2: 3\n",
      "arg3: 5\n",
      "arg1: 5\n",
      "arg2: two\n",
      "arg3: 3\n"
     ]
    }
   ],
   "source": [
    "def test_args_kwargs(arg1, arg2, arg3):\n",
    "    print (\"arg1:\", arg1)\n",
    "    print (\"arg2:\", arg2)\n",
    "    print (\"arg3:\", arg3)\n",
    "# first with *args\n",
    "args = (\"two\", 3,5)\n",
    "test_args_kwargs(*args)\n",
    "# now with **kwargs:\n",
    "kwargs = {\"arg3\": 3, \"arg2\": \"two\",\"arg1\":5}\n",
    "test_args_kwargs(**kwargs)"
   ]
  },
  {
   "cell_type": "code",
   "execution_count": 1,
   "metadata": {},
   "outputs": [
    {
     "name": "stdout",
     "output_type": "stream",
     "text": [
      "-- This parrot wouldn't voom\n",
      "if you put 1000 volts through it.\n",
      "-- Lovely plumage, the Norwegian Blue\n",
      "-- It's a stiff !\n",
      "-- This parrot wouldn't voom\n",
      "if you put 1000 volts through it.\n",
      "-- Lovely plumage, the Norwegian Blue\n",
      "-- It's a stiff !\n",
      "-- This parrot wouldn't VOOOOOM\n",
      "if you put 1000000 volts through it.\n",
      "-- Lovely plumage, the Norwegian Blue\n",
      "-- It's a stiff !\n"
     ]
    }
   ],
   "source": [
    "def parrot(voltage, state='a stiff', action='voom', type='Norwegian Blue') :#voltage--->شرط ادخلها عشان البرنامج يشتغل\n",
    "    print ( \"-- This parrot wouldn't\", action)\n",
    "    print (\"if you put\", voltage, \"volts through it.\")\n",
    "    print (\"-- Lovely plumage, the\", type)\n",
    "    print (\"-- It's\", state, \"!\")\n",
    "parrot(1000) # 1 positional argument\n",
    "parrot(voltage=1000) # 1 keyword argument\n",
    "parrot(voltage=1000000, action='VOOOOOM') # 2 keyword arguments\n",
    "#state,action,type---->لو مخدلتش لهم قيم عندا استدعاء الداله البرنامج هيشتغل عادي وهيعرض القيم الافتراضية"
   ]
  },
  {
   "cell_type": "code",
   "execution_count": 5,
   "metadata": {},
   "outputs": [
    {
     "name": "stdout",
     "output_type": "stream",
     "text": [
      "name :sara atia\n",
      "age :20\n",
      "uni :egypt\n",
      "good luck\n",
      "------\n",
      "name :atia\n",
      "age :60\n",
      "uni :egypt\n",
      "good luck\n"
     ]
    }
   ],
   "source": [
    "def function_(name,age=20,uni='egypt'):\n",
    "    print('name :'+name)\n",
    "    print('age :'+str(age))\n",
    "    print('uni :'+uni)\n",
    "    print('good luck')\n",
    "function_('sara atia')\n",
    "print('------')\n",
    "function_('atia','60')"
   ]
  },
  {
   "cell_type": "code",
   "execution_count": 6,
   "metadata": {},
   "outputs": [
    {
     "name": "stdout",
     "output_type": "stream",
     "text": [
      "-- This parrot wouldn't VOOOOOM\n",
      "if you put 1000000 volts through it.\n",
      "-- Lovely plumage, the Norwegian Blue\n",
      "-- It's a stiff !\n",
      "-- This parrot wouldn't jump\n",
      "if you put a million volts through it.\n",
      "-- Lovely plumage, the Norwegian Blue\n",
      "-- It's bereft of life !\n",
      "-- This parrot wouldn't voom\n",
      "if you put a thousand volts through it.\n",
      "-- Lovely plumage, the Norwegian Blue\n",
      "-- It's pushing up the daisies !\n"
     ]
    }
   ],
   "source": [
    "def parrot(voltage, state='a stiff', action='voom', type='Norwegian Blue') :#voltage--->اهم حاجه لازم ندخلها عشان البرنامج يشتغل\n",
    "    print ( \"-- This parrot wouldn't\", action)\n",
    "    print (\"if you put\", voltage, \"volts through it.\")\n",
    "    print (\"-- Lovely plumage, the\", type)\n",
    "    print (\"-- It's\", state, \"!\")\n",
    "parrot(action='VOOOOOM', voltage=1000000) # 2 keyword arguments\n",
    "parrot('a million', 'bereft of life', 'jump') # 3 positional arguments\n",
    "parrot('a thousand', state='pushing up the daisies') # 1 positional, 1 keyword"
   ]
  },
  {
   "cell_type": "code",
   "execution_count": 7,
   "metadata": {},
   "outputs": [
    {
     "name": "stdout",
     "output_type": "stream",
     "text": [
      "-- This parrot wouldn't VOOM\n",
      "if you put four million volts through it.\n",
      "E's bleedin' demised !\n"
     ]
    }
   ],
   "source": [
    "def parrot(voltage, state='a stiff', action='voom'):\n",
    "    print (\"-- This parrot wouldn't\", action),\n",
    "    print (\"if you put\", voltage, \"volts through it.\"),\n",
    "    print (\"E's\", state, \"!\")\n",
    "d = {\"voltage\": \"four million\", \"state\": \"bleedin' demised\", \"action\": \"VOOM\"}\n",
    "parrot(**d)#دخلت الداتا علي هيئه دكشينري"
   ]
  },
  {
   "cell_type": "code",
   "execution_count": 10,
   "metadata": {},
   "outputs": [
    {
     "name": "stdout",
     "output_type": "stream",
     "text": [
      "9\n",
      "125\n",
      "16\n",
      "78125\n"
     ]
    }
   ],
   "source": [
    "def powers(m, n = 4 ) :#m--> اسم المتغير ال هدخله قيمه\n",
    "    print (m**(n))#n-->قيمه افتراضيه لمتغير ف حالة لو مدخلتلهوش قيمه\n",
    "powers(3,2)#m=3,n=2\n",
    "powers(n=3,m=5)\n",
    "powers(2)#n=4,عشان مدخلتلهوش قيمه لاس فهيستخدم القيمه الافتراضيه\n",
    "powers(m=5,n=7)#ممكن اغير ف ترتيب القيم بس اكتب المتغير"
   ]
  },
  {
   "cell_type": "code",
   "execution_count": 12,
   "metadata": {},
   "outputs": [
    {
     "name": "stdout",
     "output_type": "stream",
     "text": [
      "8\n"
     ]
    }
   ],
   "source": [
    "def power(y,c) :#ف حالة لو استخدمت (return) &لازم استخدم (print) عندا استدعاء الداله\n",
    "    x = y**c\n",
    "    return x\n",
    "power(2,6)#الداله شغاله بس مش هيعرض القيمه\n",
    "print(power(2,3))\n"
   ]
  },
  {
   "cell_type": "code",
   "execution_count": 13,
   "metadata": {},
   "outputs": [
    {
     "name": "stdout",
     "output_type": "stream",
     "text": [
      "first : 5\n",
      "second : 2\n",
      "107\n"
     ]
    }
   ],
   "source": [
    "def power(y,c) :#اقدر استخدم اكثر من داله بشكل متداخل\n",
    "    x = y**c\n",
    "    return x\n",
    "def times4(xx) :\n",
    "    z = 4*xx\n",
    "    return z\n",
    "def add7(zz) :\n",
    "    w = zz+7\n",
    "    return w\n",
    "d = int(input('first : '))\n",
    "dd = int(input('second : '))\n",
    "print (add7(times4(power(d,dd))))#first-->power(),second-->times4(),third-->add7()"
   ]
  },
  {
   "cell_type": "code",
   "execution_count": 14,
   "metadata": {},
   "outputs": [
    {
     "name": "stdout",
     "output_type": "stream",
     "text": [
      "5\n"
     ]
    }
   ],
   "source": [
    "#variable scope\n",
    "xx = 5#البرنامج كله قاريه عندي\n",
    "def gg() :\n",
    "    xx = 14#المتغير متعرف جوا الداله بس ومش كل البرنامج قاريه\n",
    "gg()\n",
    "print (xx)"
   ]
  },
  {
   "cell_type": "code",
   "execution_count": 15,
   "metadata": {},
   "outputs": [
    {
     "name": "stdout",
     "output_type": "stream",
     "text": [
      "14\n"
     ]
    }
   ],
   "source": [
    "#global var\n",
    "xx = 5\n",
    "def gg() :\n",
    "    global xx#كدا كل البرنامج قاري المتغير\n",
    "    xx = 14\n",
    "gg()\n",
    "print (xx)#هياخد القيمه ال جوا الداله عشان عندا تعريف نفس المتغير لمره التانيه هيمسح القيمه الاولي ويحط الثانيه"
   ]
  },
  {
   "cell_type": "code",
   "execution_count": 16,
   "metadata": {},
   "outputs": [
    {
     "name": "stdout",
     "output_type": "stream",
     "text": [
      "10\n"
     ]
    }
   ],
   "source": [
    "x=5#ex\n",
    "x=10\n",
    "print(x)#نفس فكره  لما استخدمه global "
   ]
  },
  {
   "cell_type": "code",
   "execution_count": 17,
   "metadata": {},
   "outputs": [
    {
     "name": "stdout",
     "output_type": "stream",
     "text": [
      "125\n"
     ]
    }
   ],
   "source": [
    "#lambda variables : To be executed,condition\n",
    "powers = lambda x,y : x**y\n",
    "print (powers(5,3))#هيا فكره داله بس ف سطر واحد"
   ]
  },
  {
   "cell_type": "code",
   "execution_count": 18,
   "metadata": {},
   "outputs": [
    {
     "name": "stdout",
     "output_type": "stream",
     "text": [
      "1\n",
      "5\n",
      "25\n",
      "125\n"
     ]
    }
   ],
   "source": [
    "powers = [lambda x: 1,lambda x: x,lambda x: x**2,lambda x: x**3]\n",
    "print(powers[0](5))#0-->index,5-->value\n",
    "print(powers[1](5))\n",
    "print(powers[2](5))\n",
    "print(powers[3](5))"
   ]
  },
  {
   "cell_type": "code",
   "execution_count": 20,
   "metadata": {},
   "outputs": [
    {
     "name": "stdout",
     "output_type": "stream",
     "text": [
      "[0, 2, 4, 6, 8]\n",
      "[1, 3, 5, 7, 9]\n"
     ]
    }
   ],
   "source": [
    "mylist = [0,1,2,3,4,5,6,7,8,9]#list(filter())\n",
    "evennumber = list(filter(lambda x: x % 2 == 0 , mylist ))#لو الشرط صح هينفذ وياخد القيم يجمعها ف ليست\n",
    "oddnumber = list(filter(lambda x: x % 2 == 1 , mylist ))\n",
    "print (evennumber)\n",
    "print (oddnumber)"
   ]
  },
  {
   "cell_type": "code",
   "execution_count": 21,
   "metadata": {},
   "outputs": [
    {
     "name": "stdout",
     "output_type": "stream",
     "text": [
      "square list [0, 1, 4, 9, 16, 25, 36, 49, 64, 81]\n"
     ]
    }
   ],
   "source": [
    "mylist = (0,1,2,3,4,5,6,7,8,9)\n",
    "print (\"square list\" , list(map(lambda x: x**2 , mylist)))\n",
    "#هتطبق علي كل العناصر عندي (عشان ملهاش اي شرط)"
   ]
  },
  {
   "cell_type": "code",
   "execution_count": 22,
   "metadata": {},
   "outputs": [
    {
     "name": "stdout",
     "output_type": "stream",
     "text": [
      "[1, 8, 27, 64, 125, 216]\n"
     ]
    }
   ],
   "source": [
    "list1 = (1,2,3,4,5,6)\n",
    "def cpower (x):\n",
    "    return x**3\n",
    "print (list(map(lambda x :cpower(x) , list1)))\n",
    "#بدل مكتب كل العمليات الحسابيه ال محتاجاها ممكن اعملهم ف داله واستدعيها مع lambda"
   ]
  },
  {
   "cell_type": "code",
   "execution_count": 25,
   "metadata": {},
   "outputs": [
    {
     "name": "stdout",
     "output_type": "stream",
     "text": [
      "0\n",
      "1\n",
      "2\n",
      "3\n",
      "4\n",
      "5\n",
      "6\n",
      "7\n",
      "8\n",
      "9\n"
     ]
    }
   ],
   "source": [
    "def yie():#كل ماستدعيها هيجبلي اخر قيمه وقف عندها ..هيعرضلي كل القيم باختصار\n",
    "    for i in range(10):\n",
    "        yield i\n",
    "for g in yie():\n",
    "    print(g)"
   ]
  },
  {
   "cell_type": "code",
   "execution_count": 26,
   "metadata": {},
   "outputs": [
    {
     "data": {
      "text/plain": [
       "<generator object yie_ at 0x00000278BA538C10>"
      ]
     },
     "execution_count": 26,
     "metadata": {},
     "output_type": "execute_result"
    }
   ],
   "source": [
    "def yie_():\n",
    "    for i in range(10):\n",
    "        yield i\n",
    "    print(i)\n",
    "yie_()#فلازم اعملها لوب بعد مكريت الداله..او استخدم امر نكست زي مهنشوف"
   ]
  },
  {
   "cell_type": "code",
   "execution_count": 28,
   "metadata": {},
   "outputs": [
    {
     "name": "stdout",
     "output_type": "stream",
     "text": [
      "0\n",
      "1\n",
      "2\n"
     ]
    }
   ],
   "source": [
    "def yie():\n",
    "    for i in range(10):\n",
    "        yield i\n",
    "f = yie()\n",
    "print (next(f))\n",
    "print (next(f))\n",
    "print (next(f))"
   ]
  },
  {
   "cell_type": "code",
   "execution_count": 32,
   "metadata": {},
   "outputs": [
    {
     "name": "stdout",
     "output_type": "stream",
     "text": [
      "[1, 1, 2, 3, 5, 8, 13, 21, 34, 55, 89, 144, 233, 377, 610, 987, 1597, 2584, 4181, 6765]\n"
     ]
    }
   ],
   "source": [
    "#[1,1,2,3,5,8,...........,a+b]\n",
    "def fibon(n):\n",
    "    a = b = 1\n",
    "    result =[]\n",
    "    for i in range(n):\n",
    "        result.append (a)\n",
    "        a , b = b , a+b#a=b,b=a+b\n",
    "    return result\n",
    "print (fibon(20))"
   ]
  },
  {
   "cell_type": "code",
   "execution_count": 37,
   "metadata": {},
   "outputs": [
    {
     "name": "stdout",
     "output_type": "stream",
     "text": [
      "1\n",
      "1\n",
      "2\n",
      "3\n",
      "5\n",
      "8\n",
      "13\n",
      "21\n",
      "34\n",
      "55\n",
      "89\n",
      "144\n",
      "233\n",
      "377\n",
      "610\n",
      "987\n",
      "1597\n",
      "2584\n",
      "4181\n",
      "6765\n"
     ]
    }
   ],
   "source": [
    "def fibon(n):\n",
    "    a = b = 1\n",
    "    for i in range(n):#نفس الفكره باستخدام yield\n",
    "        yield a\n",
    "        a , b = b , a+b\n",
    "for x in fibon(20):\n",
    "    print (x)"
   ]
  },
  {
   "cell_type": "code",
   "execution_count": 38,
   "metadata": {},
   "outputs": [
    {
     "name": "stdout",
     "output_type": "stream",
     "text": [
      "3628800\n"
     ]
    }
   ],
   "source": [
    "#recursive functions \n",
    "def fac(n):\n",
    "    if n ==1 :\n",
    "        return 1\n",
    "    else :\n",
    "        return n * fac(n-1)\n",
    "print(fac(10))"
   ]
  },
  {
   "cell_type": "code",
   "execution_count": 39,
   "metadata": {},
   "outputs": [],
   "source": [
    "#ف اول مره هيضرب العشره ف تسعه\n",
    "#وبعدين العشره ف تسعه  ف 8\n",
    "#\n",
    "#وهكذا هيفضل يستدعي الداله لحد ميوصل لواحد"
   ]
  },
  {
   "cell_type": "code",
   "execution_count": 40,
   "metadata": {},
   "outputs": [],
   "source": [
    "#class"
   ]
  },
  {
   "cell_type": "code",
   "execution_count": 1,
   "metadata": {},
   "outputs": [
    {
     "name": "stdout",
     "output_type": "stream",
     "text": [
      "white\n"
     ]
    }
   ],
   "source": [
    "class car :\n",
    "    length = 15\n",
    "    width = 8\n",
    "    height = 6\n",
    "    color = 'white'\n",
    "    volume = length * width * height\n",
    "print(car.color)"
   ]
  },
  {
   "cell_type": "code",
   "execution_count": 2,
   "metadata": {},
   "outputs": [
    {
     "data": {
      "text/plain": [
       "8"
      ]
     },
     "execution_count": 2,
     "metadata": {},
     "output_type": "execute_result"
    }
   ],
   "source": [
    "car.width"
   ]
  },
  {
   "cell_type": "code",
   "execution_count": 3,
   "metadata": {},
   "outputs": [
    {
     "data": {
      "text/plain": [
       "720"
      ]
     },
     "execution_count": 3,
     "metadata": {},
     "output_type": "execute_result"
    }
   ],
   "source": [
    "car.volume"
   ]
  },
  {
   "cell_type": "code",
   "execution_count": 6,
   "metadata": {},
   "outputs": [
    {
     "name": "stdout",
     "output_type": "stream",
     "text": [
      "6\n"
     ]
    }
   ],
   "source": [
    "class car :\n",
    "    length = 15\n",
    "    width = 8\n",
    "    height = 6\n",
    "    color = 'white'\n",
    "    volume = length * width * height\n",
    "volvo = car#object\n",
    "print(volvo.height)"
   ]
  },
  {
   "cell_type": "code",
   "execution_count": 12,
   "metadata": {},
   "outputs": [
    {
     "name": "stdout",
     "output_type": "stream",
     "text": [
      "green\n",
      "green\n"
     ]
    }
   ],
   "source": [
    "class car() :\n",
    "    color = 'blue'\n",
    "volvo = car\n",
    "nissan = car\n",
    "volvo.color = 'white'\n",
    "nissan.color = 'green'\n",
    "print(volvo.color)\n",
    "print(nissan.color)"
   ]
  },
  {
   "cell_type": "code",
   "execution_count": 13,
   "metadata": {},
   "outputs": [
    {
     "name": "stdout",
     "output_type": "stream",
     "text": [
      "white\n",
      "green\n"
     ]
    }
   ],
   "source": [
    "class car() :\n",
    "    def __init__(self, color):#قيمة افتراضيه\n",
    "        self.color = color\n",
    "volvo = car('white')\n",
    "nissan = car('green')\n",
    "print(volvo.color)\n",
    "print(nissan.color)"
   ]
  },
  {
   "cell_type": "code",
   "execution_count": 15,
   "metadata": {},
   "outputs": [
    {
     "name": "stdout",
     "output_type": "stream",
     "text": [
      "1600\n",
      "125000\n"
     ]
    }
   ],
   "source": [
    "class calc :\n",
    "    def __init__(self,p2,p3) :\n",
    "        self.power2 = p2**2\n",
    "        self.power3 = p3**3\n",
    "a = calc(40,50)\n",
    "print(a.power2)\n",
    "print(a.power3)"
   ]
  },
  {
   "cell_type": "code",
   "execution_count": 18,
   "metadata": {},
   "outputs": [
    {
     "name": "stdout",
     "output_type": "stream",
     "text": [
      "100\n",
      "8000\n"
     ]
    }
   ],
   "source": [
    "class d :\n",
    "    def __init__(self,p2 = 10 ,p3 = 20) :\n",
    "        self.power2 = p2**2\n",
    "        self.power3 = p3**3\n",
    "a = d()\n",
    "print(a.power2)\n",
    "print(a.power3)"
   ]
  },
  {
   "cell_type": "code",
   "execution_count": 19,
   "metadata": {},
   "outputs": [
    {
     "name": "stdout",
     "output_type": "stream",
     "text": [
      "25\n",
      "27\n"
     ]
    }
   ],
   "source": [
    "class d :\n",
    "    def __init__(self,p2 = 10 ,p3 = 100) :\n",
    "        self.power2 = p2**2\n",
    "        self.power3 = p3**3\n",
    "a = d(5,3)\n",
    "print(a.power2)\n",
    "print(a.power3)\n"
   ]
  },
  {
   "cell_type": "code",
   "execution_count": 20,
   "metadata": {},
   "outputs": [
    {
     "name": "stdout",
     "output_type": "stream",
     "text": [
      "25\n",
      "27\n"
     ]
    }
   ],
   "source": [
    "a = d(p2=5,p3=3)\n",
    "print(a.power2)\n",
    "print(a.power3)"
   ]
  },
  {
   "cell_type": "code",
   "execution_count": 3,
   "metadata": {},
   "outputs": [
    {
     "name": "stdout",
     "output_type": "stream",
     "text": [
      "50.0\n"
     ]
    }
   ],
   "source": [
    "class d :\n",
    "    def __init__(self,nn,p2 = 10 ,p3 = 100) :\n",
    "        self.power2 = p2**2\n",
    "        self.power3 = p3**3\n",
    "        self.roots = nn\n",
    "    def root(self ) :\n",
    "        print (self.roots**0.5)\n",
    "a = d(2500)\n",
    "a.root()"
   ]
  },
  {
   "cell_type": "code",
   "execution_count": null,
   "metadata": {},
   "outputs": [],
   "source": []
  }
 ],
 "metadata": {
  "kernelspec": {
   "display_name": "Python 3",
   "language": "python",
   "name": "python3"
  },
  "language_info": {
   "codemirror_mode": {
    "name": "ipython",
    "version": 3
   },
   "file_extension": ".py",
   "mimetype": "text/x-python",
   "name": "python",
   "nbconvert_exporter": "python",
   "pygments_lexer": "ipython3",
   "version": "3.8.5"
  }
 },
 "nbformat": 4,
 "nbformat_minor": 4
}
