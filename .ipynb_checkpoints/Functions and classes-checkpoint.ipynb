{
 "cells": [
  {
   "cell_type": "code",
   "execution_count": 24,
   "metadata": {},
   "outputs": [
    {
     "name": "stdout",
     "output_type": "stream",
     "text": [
      "\n",
      "*\n",
      "**\n",
      "***\n",
      "****\n"
     ]
    }
   ],
   "source": [
    "def star () :\n",
    "    for i in range(5):\n",
    "        for j in range(i):\n",
    "            print('*',end='')\n",
    "        print()\n",
    "star()"
   ]
  },
  {
   "cell_type": "code",
   "execution_count": 18,
   "metadata": {},
   "outputs": [
    {
     "name": "stdout",
     "output_type": "stream",
     "text": [
      "**\n",
      "**\n",
      "**\n",
      "**\n",
      "**\n"
     ]
    }
   ],
   "source": [
    "def star() :\n",
    "    for h in range(5) :\n",
    "        print ('**')\n",
    "s=star\n",
    "s()"
   ]
  },
  {
   "cell_type": "code",
   "execution_count": 55,
   "metadata": {},
   "outputs": [
    {
     "name": "stdout",
     "output_type": "stream",
     "text": [
      "average is  2.5\n",
      "average is  2.5\n"
     ]
    }
   ],
   "source": [
    "def find_avg(a,b):\n",
    "    average = (a+b)/2\n",
    "    print (\"average is \",average)\n",
    "find_avg(2,3)\n",
    "x=(2,3)\n",
    "find_avg(*x)"
   ]
  },
  {
   "cell_type": "code",
   "execution_count": 54,
   "metadata": {},
   "outputs": [
    {
     "name": "stdout",
     "output_type": "stream",
     "text": [
      "average is  2.5\n",
      "(2, 3)\n",
      "average is  6.0\n",
      "(2, 3, 4, 5, 6, 7, 8, 9, 10)\n",
      "average is  5.5\n",
      "(1, 2, 3, 4, 5, 6, 7, 8, 9, 10)\n"
     ]
    }
   ],
   "source": [
    "def find_avg(*numbers):#لم نحط النجمة ساعتها بيقبل انه ياخد ليست كاملة args    \n",
    "    sum = 0\n",
    "    for i in numbers :\n",
    "        sum += i\n",
    "    print (\"average is \",sum/(len(numbers)))\n",
    "    print (numbers)\n",
    "find_avg(2,3)\n",
    "x=(2,3,4)\n",
    "y=[5,6,7]\n",
    "z={8,9,10}\n",
    "find_avg(*x,*y,*z)\n",
    "find_avg(1,2,3,4,5,6,7,8,9,10)"
   ]
  },
  {
   "cell_type": "code",
   "execution_count": 58,
   "metadata": {},
   "outputs": [
    {
     "name": "stdout",
     "output_type": "stream",
     "text": [
      "first normal arg: ahmed\n",
      "first normal arg: ahmed\n",
      "another arg through *argv : mohamed\n",
      "another arg through *argv : mona\n",
      "another arg through *argv : sameh\n"
     ]
    }
   ],
   "source": [
    "def test_var_args(f_arg, *argv): #اول قيمة هتتجط فاول متغير والباقى يتخزن فالتانى ممكن ندخل قيمة واحدة او اكتر\n",
    "    print (\"first normal arg:\", f_arg)\n",
    "    for arg in argv:\n",
    "        print (\"another arg through *argv :\", arg)\n",
    "test_var_args('ahmed')\n",
    "test_var_args('ahmed','mohamed','mona','sameh')"
   ]
  },
  {
   "cell_type": "code",
   "execution_count": 66,
   "metadata": {},
   "outputs": [
    {
     "name": "stdout",
     "output_type": "stream",
     "text": [
      "{'one': 1, 'two': 2}\n"
     ]
    }
   ],
   "source": [
    "def print_values(**values): #نجمتبن بتاخد قاموس  kwargs\n",
    "    print (values)\n",
    "print_values(one = 1, two = 2)"
   ]
  },
  {
   "cell_type": "code",
   "execution_count": 74,
   "metadata": {},
   "outputs": [
    {
     "name": "stdout",
     "output_type": "stream",
     "text": [
      "one = 1\n",
      "two = 2\n",
      "three = 3\n",
      "four = 4\n",
      "five = 5\n"
     ]
    }
   ],
   "source": [
    "def print_values(**values):\n",
    "    for key, value in values.items():\n",
    "        print(\"{} = {}\".format(key,value))\n",
    "print_values( one =1 ,two = 2,three = 3,four = 4,five = 5)"
   ]
  },
  {
   "cell_type": "code",
   "execution_count": 77,
   "metadata": {},
   "outputs": [
    {
     "name": "stdout",
     "output_type": "stream",
     "text": [
      "name == Python\n"
     ]
    }
   ],
   "source": [
    "def greet_me(**kwargs):\n",
    "    if kwargs is not None:\n",
    "        for key, value in kwargs.items():\n",
    "            print (\"%s == %s\" %(key,value))\n",
    "greet_me(name=\"Python\")"
   ]
  },
  {
   "cell_type": "code",
   "execution_count": 84,
   "metadata": {},
   "outputs": [
    {
     "name": "stdout",
     "output_type": "stream",
     "text": [
      "2 1\n",
      "1.5\n",
      "2.0\n"
     ]
    }
   ],
   "source": [
    "def avg_of_two(a,b):\n",
    "    print(b,a)\n",
    "    print ((a+b)/2)\n",
    "def avg_of_three(a,b,c):\n",
    "    print ((a+b+c)/3)\n",
    "var1 = {'a':1,'b':2}\n",
    "avg_of_two(**var1)\n",
    "var2 = {'a':1,'b':2,'c':3}\n",
    "avg_of_three(**var2)\n"
   ]
  },
  {
   "cell_type": "code",
   "execution_count": 91,
   "metadata": {},
   "outputs": [
    {
     "name": "stdout",
     "output_type": "stream",
     "text": [
      "a is  1\n",
      "b is  2\n",
      "args is  (3, 4, 5, 6, 7, 8, 9)\n",
      "kwargs is  {}\n",
      "-----------\n",
      "a is  1\n",
      "b is  2\n",
      "args is  (3, 4, 5, 6)\n",
      "kwargs is  {'c': 7, 'd': 8, 'e': 9}\n",
      "-----------\n"
     ]
    }
   ],
   "source": [
    "def show_details(a,b,*args,**kwargs):\n",
    "    print(\"a is \",a)\n",
    "    print(\"b is \",b)\n",
    "    print(\"args is \",args)\n",
    "    print(\"kwargs is \",kwargs)\n",
    "show_details(1,2,3,4,5,6,7,8,9)\n",
    "print(\"-----------\")\n",
    "show_details(1,2,3,4,5,6,c= 7,d = 8,e = 9)\n",
    "print(\"-----------\")"
   ]
  },
  {
   "cell_type": "code",
   "execution_count": 103,
   "metadata": {},
   "outputs": [
    {
     "name": "stdout",
     "output_type": "stream",
     "text": [
      "arg1: two\n",
      "arg2: 3\n",
      "arg3: 5\n",
      "arg1: 5\n",
      "arg2: two\n",
      "arg3: 3\n"
     ]
    }
   ],
   "source": [
    "def test_args_kwargs(arg1, arg2, arg3):\n",
    "    print (\"arg1:\", arg1)\n",
    "    print (\"arg2:\", arg2)\n",
    "    print (\"arg3:\", arg3)\n",
    "# first with *args\n",
    "args = (\"two\", 3,5)\n",
    "test_args_kwargs(*args)\n",
    "# now with **kwargs:\n",
    "kwargs = {\"arg3\": 3, \"arg2\": \"two\",\"arg1\":5}\n",
    "test_args_kwargs(**kwargs)"
   ]
  },
  {
   "cell_type": "code",
   "execution_count": 106,
   "metadata": {},
   "outputs": [
    {
     "name": "stdout",
     "output_type": "stream",
     "text": [
      "-- This parrot wouldn't voom\n",
      "if you put 1000 volts through it.\n",
      "-- Lovely plumage, the Norwegian Blue\n",
      "-- It's a stiff !\n",
      "-- This parrot wouldn't voom\n",
      "if you put 1000 volts through it.\n",
      "-- Lovely plumage, the Norwegian Blue\n",
      "-- It's a stiff !\n",
      "-- This parrot wouldn't VOOOOOM\n",
      "if you put 1000000 volts through it.\n",
      "-- Lovely plumage, the Norwegian Blue\n",
      "-- It's sdddddddd !\n"
     ]
    }
   ],
   "source": [
    "def parrot(voltage, state='a stiff', action='voom', type='Norwegian Blue') :\n",
    "    print ( \"-- This parrot wouldn't\", action)\n",
    "    print (\"if you put\", voltage, \"volts through it.\")\n",
    "    print (\"-- Lovely plumage, the\", type)\n",
    "    print (\"-- It's\", state, \"!\")\n",
    "parrot(1000) # 1 positional argument\n",
    "parrot(voltage=1000) # 1 keyword argument\n",
    "parrot(1000000,'sdddddddd', 'VOOOOOM') # 2 keyword arguments"
   ]
  },
  {
   "cell_type": "code",
   "execution_count": 1,
   "metadata": {},
   "outputs": [
    {
     "name": "stdout",
     "output_type": "stream",
     "text": [
      "-- This parrot wouldn't VOOM\n",
      "if you put four million volts through it.\n",
      "E's bleedin' demised !\n"
     ]
    }
   ],
   "source": [
    "def parrot(voltage, state='a stiff', action='voom'):\n",
    "    print (\"-- This parrot wouldn't\", action),\n",
    "    print (\"if you put\", voltage, \"volts through it.\"),\n",
    "    print (\"E's\", state, \"!\")\n",
    "d = {\"voltage\": \"four million\", \"state\": \"bleedin' demised\", \"action\": \"VOOM\"}\n",
    "parrot(**d)"
   ]
  },
  {
   "cell_type": "code",
   "execution_count": 2,
   "metadata": {},
   "outputs": [],
   "source": [
    "#نماذج بالاخطاء\n",
    "def parrot(voltage, state='a stiff', action='voom', type='Norwegian Blue') :\n",
    "    print ( \"-- This parrot wouldn't\", action)\n",
    "    print (\"if you put\", voltage, \"volts through it.\")\n",
    "    print (\"-- Lovely plumage, the\", type)\n",
    "    print (\"-- It's\", state, \"!\")\n",
    "#parrot() # required argument missing\n",
    "#parrot(voltage=5.0, 'dead') # non-keyword argument after a keyword argument\n",
    "#parrot(110, voltage=220) # duplicate value for the same argument\n",
    "#parrot(actor='John Cleese') # unknown keyword argument\n"
   ]
  },
  {
   "cell_type": "code",
   "execution_count": 5,
   "metadata": {},
   "outputs": [
    {
     "name": "stdout",
     "output_type": "stream",
     "text": [
      "81\n"
     ]
    }
   ],
   "source": [
    "def powers(m, n = 4 ) :\n",
    "    print (m**(n))\n",
    "powers(3)"
   ]
  },
  {
   "cell_type": "code",
   "execution_count": 4,
   "metadata": {},
   "outputs": [
    {
     "name": "stdout",
     "output_type": "stream",
     "text": [
      "64\n"
     ]
    }
   ],
   "source": [
    "def powers(m,n) :\n",
    "    print (m**(n))\n",
    "powers(n=3 ,m= 4)"
   ]
  },
  {
   "cell_type": "code",
   "execution_count": 6,
   "metadata": {},
   "outputs": [
    {
     "name": "stdout",
     "output_type": "stream",
     "text": [
      "8\n"
     ]
    }
   ],
   "source": [
    "def power(y,c) :\n",
    "    x = y**c\n",
    "    return x #ارجع القيمة\n",
    "print(power(2,3))"
   ]
  },
  {
   "cell_type": "code",
   "execution_count": 8,
   "metadata": {},
   "outputs": [
    {
     "name": "stdout",
     "output_type": "stream",
     "text": [
      "first : 1\n",
      "second : 5\n",
      "11\n"
     ]
    }
   ],
   "source": [
    "def power(y,c) :\n",
    "    x = y**c\n",
    "    return x\n",
    "def times4(xx) :\n",
    "    z = 4*xx\n",
    "    return z\n",
    "def add7(zz) :\n",
    "    w = zz+7\n",
    "    return w\n",
    "d = int(input('first : '))\n",
    "dd = int(input('second : '))\n",
    "print (add7(times4(power(d,dd))))"
   ]
  },
  {
   "cell_type": "code",
   "execution_count": 9,
   "metadata": {},
   "outputs": [
    {
     "name": "stdout",
     "output_type": "stream",
     "text": [
      "5\n"
     ]
    }
   ],
   "source": [
    "xx = 5\n",
    "def gg() :\n",
    "    xx = 14 #local ملهاش علاقة بالى برة الفنكشن\n",
    "gg()\n",
    "print (xx)  "
   ]
  },
  {
   "cell_type": "code",
   "execution_count": 10,
   "metadata": {},
   "outputs": [
    {
     "name": "stdout",
     "output_type": "stream",
     "text": [
      "14\n"
     ]
    }
   ],
   "source": [
    "xx = 5\n",
    "def gg() :\n",
    "    global xx #جلوبل يعنى  هتغير قيمة ال بره الاسكوب بتاع الفنكشن\n",
    "    xx = 14\n",
    "gg()\n",
    "print (xx)"
   ]
  },
  {
   "cell_type": "code",
   "execution_count": 11,
   "metadata": {},
   "outputs": [
    {
     "name": "stdout",
     "output_type": "stream",
     "text": [
      "125\n"
     ]
    }
   ],
   "source": [
    "#اللمدا , هي استخدام مختصر و ذكي للدوال , يعني هاعمل دالة بشكل سريع من غير ما اعمل الشكل الكبير الخاص بالدالة\n",
    "powers = lambda x,y : x**y\n",
    "print (powers(5,3))"
   ]
  },
  {
   "cell_type": "code",
   "execution_count": 12,
   "metadata": {},
   "outputs": [
    {
     "name": "stdout",
     "output_type": "stream",
     "text": [
      "1\n",
      "5\n",
      "25\n",
      "125\n"
     ]
    }
   ],
   "source": [
    "powers = [lambda x: 1,lambda x: x,lambda x: x**2,lambda x: x**3]\n",
    "print(powers[0](5))\n",
    "print(powers[1](5))\n",
    "print(powers[2](5))\n",
    "print(powers[3](5))"
   ]
  },
  {
   "cell_type": "code",
   "execution_count": 13,
   "metadata": {},
   "outputs": [
    {
     "name": "stdout",
     "output_type": "stream",
     "text": [
      "[0, 2, 4, 6, 8]\n",
      "[1, 3, 5, 7, 9]\n"
     ]
    }
   ],
   "source": [
    "#الفلتر , هو طريقة لاختيار ارقام معينة , بناء علي شرط محدد , وغالبا يكون الشرط باللمدا\n",
    "mylist = [0,1,2,3,4,5,6,7,8,9]\n",
    "evennumber = list(filter(lambda x: x % 2 == 0 , mylist ))\n",
    "oddnumber = list(filter(lambda x: x % 2 == 1 , mylist ))\n",
    "print (evennumber)\n",
    "print (oddnumber)"
   ]
  },
  {
   "cell_type": "code",
   "execution_count": 15,
   "metadata": {},
   "outputs": [
    {
     "name": "stdout",
     "output_type": "stream",
     "text": [
      "square list : [0, 1, 4, 9, 16, 25, 36, 49, 64, 81]\n"
     ]
    },
    {
     "data": {
      "text/plain": [
       "(0, 1, 2, 3, 4, 5, 6, 7, 8, 9)"
      ]
     },
     "execution_count": 15,
     "metadata": {},
     "output_type": "execute_result"
    }
   ],
   "source": [
    "#أما الماب فهو تطبيق دالة معينة )لمدا( علي كل العناصر\n",
    "mylist = (0,1,2,3,4,5,6,7,8,9)\n",
    "print(\"square list :\",list(map(lambda x:x**2,mylist)))\n",
    "mylist"
   ]
  },
  {
   "cell_type": "code",
   "execution_count": 17,
   "metadata": {},
   "outputs": [
    {
     "name": "stdout",
     "output_type": "stream",
     "text": [
      "[0, 4, 16, 36, 64]\n"
     ]
    }
   ],
   "source": [
    "mylist = (0,1,2,3,4,5,6,7,8,9)\n",
    "print(list(filter (lambda x :x % 2 ==0,map(lambda x :x**2, mylist))))"
   ]
  },
  {
   "cell_type": "code",
   "execution_count": 21,
   "metadata": {},
   "outputs": [
    {
     "name": "stdout",
     "output_type": "stream",
     "text": [
      "[8, 64, 216, 512, 1000]\n"
     ]
    }
   ],
   "source": [
    "#وممكن بدل ما اكتب التفاصيل قدام اللمدا , استخدم دالة محددة سابقة التعريف\n",
    "list1 = (1,2,3,4,5,6,7,8,9,10)\n",
    "def cpower (x):\n",
    "    return x**3\n",
    "def is_even (x):\n",
    "    return x%2==0\n",
    "        \n",
    "print(list(filter(lambda x:is_even(x), map(lambda x: cpower(x),list1))))"
   ]
  },
  {
   "cell_type": "code",
   "execution_count": 69,
   "metadata": {},
   "outputs": [
    {
     "name": "stdout",
     "output_type": "stream",
     "text": [
      "<generator object yie at 0x000002268DADB430>\n",
      "0\n",
      "1\n",
      "[2, 3, 4, 5, 6, 7, 8, 9]\n",
      "[]\n",
      "0\n",
      "0\n",
      "[0, 1, 2, 3, 4, 5, 6, 7, 8, 9]\n"
     ]
    }
   ],
   "source": [
    "#الفرق بين يلد وريتيرن ان ريترن بترجع قيمة واحدة وتطلع من اللوب وتخرج من الفنكشن ولكن يلد بترجع قيمة قيمة\n",
    "def yie():\n",
    "    for i in range(10):\n",
    "        yield i\n",
    "x=yie()# اكس بقت جينيريتور اوبجكت لو طبعت اى قيمة منه هتتمسح ويخش عالى بعدها\n",
    "print(x)\n",
    "print(next(x)) #اطبع القيمة الى واقف عليها واتنقل للى بعدها\n",
    "print(next(x))\n",
    "print(list(x)) #اعمل ليست بالقيم الى تحتويها اكس\n",
    "print(list(x))\n",
    "print(next(yie()))\n",
    "print(next(yie()))\n",
    "print(list(yie())) #ممكن نستلم القيم فليست\n",
    "\n",
    "#for g in yie(): #ممكن نلوب عالفنكشن علطول\n",
    " #   print(g)"
   ]
  },
  {
   "cell_type": "code",
   "execution_count": 61,
   "metadata": {},
   "outputs": [
    {
     "data": {
      "text/plain": [
       "[0, 1, 2, 3, 4]"
      ]
     },
     "execution_count": 61,
     "metadata": {},
     "output_type": "execute_result"
    }
   ],
   "source": [
    "# list-version                   #  # generator-version\n",
    "def makeRange(n):                #  def makeRange(n):\n",
    "    \"\"\"return [0,1,2,...,n-1]\"\"\" #~     \"\"\"return 0,1,2,...,n-1\"\"\"\n",
    "    TO_RETURN = []               #>\n",
    "    i = 0                        #      i = 0\n",
    "    while i < n:                 #      while i < n:\n",
    "        TO_RETURN += [i]         #~         yield i\n",
    "        i += 1                   #          i += 1  ## indented\n",
    "    return TO_RETURN             #>\n",
    "\n",
    "makeRange(5)"
   ]
  },
  {
   "cell_type": "code",
   "execution_count": 49,
   "metadata": {},
   "outputs": [
    {
     "data": {
      "text/plain": [
       "[0, 1, 2, 3, 4]"
      ]
     },
     "execution_count": 49,
     "metadata": {},
     "output_type": "execute_result"
    }
   ],
   "source": [
    " # generator-version\n",
    "def makeRange(n):\n",
    "    \"\"\"return 0,1,2,...,n-1\"\"\"\n",
    "    i = 0\n",
    "    while i < n:\n",
    "        yield i\n",
    "        i += 1  ## indented\n",
    "list(makeRange(5))"
   ]
  },
  {
   "cell_type": "code",
   "execution_count": 70,
   "metadata": {},
   "outputs": [
    {
     "name": "stdout",
     "output_type": "stream",
     "text": [
      "[1, 1, 2, 3, 5, 8, 13, 21, 34, 55, 89, 144, 233, 377, 610, 987, 1597, 2584, 4181, 6765]\n"
     ]
    }
   ],
   "source": [
    "#فمثلا ديه طريقة عادية لعمل متسلسلة فيبوناتشي\n",
    "def fibon(n):\n",
    "    a = b = 1\n",
    "    result =[]\n",
    "    for i in range(n):\n",
    "        result.append (a)\n",
    "        a , b = b , a+b\n",
    "    return result\n",
    "print (fibon(20))"
   ]
  },
  {
   "cell_type": "code",
   "execution_count": 71,
   "metadata": {},
   "outputs": [
    {
     "name": "stdout",
     "output_type": "stream",
     "text": [
      "1\n",
      "1\n",
      "2\n",
      "3\n",
      "5\n",
      "8\n",
      "13\n",
      "21\n",
      "34\n",
      "55\n",
      "89\n",
      "144\n",
      "233\n",
      "377\n",
      "610\n",
      "987\n",
      "1597\n",
      "2584\n",
      "4181\n",
      "6765\n"
     ]
    }
   ],
   "source": [
    "def fibon(n):\n",
    "    a = b = 1\n",
    "    for i in range(n):\n",
    "        yield a\n",
    "        a , b = b , a+b\n",
    "for x in fibon(20):\n",
    "    print (x)"
   ]
  },
  {
   "cell_type": "code",
   "execution_count": 72,
   "metadata": {},
   "outputs": [
    {
     "name": "stdout",
     "output_type": "stream",
     "text": [
      "120\n"
     ]
    }
   ],
   "source": [
    "def fac(x): #recursive functions\n",
    "    if x==1:\n",
    "        return 1\n",
    "    else :\n",
    "        return x*fac(x-1)\n",
    "print(fac(5))"
   ]
  },
  {
   "cell_type": "code",
   "execution_count": 73,
   "metadata": {},
   "outputs": [],
   "source": [
    "######################################classes############################"
   ]
  },
  {
   "cell_type": "code",
   "execution_count": 75,
   "metadata": {},
   "outputs": [
    {
     "name": "stdout",
     "output_type": "stream",
     "text": [
      "white\n",
      "6\n"
     ]
    }
   ],
   "source": [
    "class car :\n",
    "    length = 15\n",
    "    width = 8\n",
    "    height = 6\n",
    "    color = 'white'\n",
    "    volume = length * width * height\n",
    "print(car.color)\n",
    "volvo =car #خد نسخة من الكلاس\n",
    "print(volvo.height)"
   ]
  },
  {
   "cell_type": "code",
   "execution_count": 76,
   "metadata": {},
   "outputs": [
    {
     "name": "stdout",
     "output_type": "stream",
     "text": [
      "green\n",
      "green\n"
     ]
    }
   ],
   "source": [
    "#class variable\n",
    "class car() :  #لو غيرنا قيمة فالنسخ هتتغير فالكل\n",
    "    color = 'blue'\n",
    "volvo = car\n",
    "nissan = car\n",
    "volvo.color = 'white' \n",
    "nissan.color = 'green'\n",
    "print(volvo.color)\n",
    "print(nissan.color)"
   ]
  },
  {
   "cell_type": "code",
   "execution_count": 83,
   "metadata": {},
   "outputs": [
    {
     "name": "stdout",
     "output_type": "stream",
     "text": [
      "white\n",
      "green\n"
     ]
    }
   ],
   "source": [
    "#instance variable\n",
    "class car : #لو غيرنا قيمة فالنسخ مش هتتغير فباقى\n",
    "    def __init__(self,color): #ممكن نغير كلمة سيلف عادى\n",
    "        self.color=color\n",
    "volvo = car('white')\n",
    "nissan = car('green')\n",
    "print(volvo.color)\n",
    "print(nissan.color)"
   ]
  },
  {
   "cell_type": "code",
   "execution_count": 84,
   "metadata": {},
   "outputs": [
    {
     "name": "stdout",
     "output_type": "stream",
     "text": [
      "16\n",
      "8000\n"
     ]
    }
   ],
   "source": [
    "class d :\n",
    "    def __init__(self,p2 = 10 ,p3 = 20) :\n",
    "        self.power2 = p2**2\n",
    "        self.power3 = p3**3\n",
    "a = d(4)\n",
    "#a = d(p2=5,p3=3)\n",
    "print(a.power2)\n",
    "print(a.power3)"
   ]
  },
  {
   "cell_type": "code",
   "execution_count": 86,
   "metadata": {},
   "outputs": [
    {
     "name": "stdout",
     "output_type": "stream",
     "text": [
      "50.0\n"
     ]
    }
   ],
   "source": [
    "class d :\n",
    "    def __init__(self,nn,p2 = 10 ,p3 = 100) :\n",
    "        self.power2 = p2**2\n",
    "        self.power3 = p3**3\n",
    "        self.roots = nn\n",
    "    def root(self ) :\n",
    "        print (self.roots**0.5)\n",
    "a = d(2500)\n",
    "a.root()"
   ]
  },
  {
   "cell_type": "code",
   "execution_count": 87,
   "metadata": {},
   "outputs": [
    {
     "name": "stdout",
     "output_type": "stream",
     "text": [
      "9\n",
      "55\n"
     ]
    }
   ],
   "source": [
    "#وممكن التعامل مع الدوال بشكل مباشر من غير المرور ب init\n",
    "class d :\n",
    "    def square(n) :\n",
    "        print (n**2)\n",
    "    def summ(a,b,c,d,e,f) :\n",
    "        return ((a+b-c+e)*(d+f))\n",
    "a = d\n",
    "a.square(3)\n",
    "print (a.summ(1,2,3,4,5,7))"
   ]
  },
  {
   "cell_type": "code",
   "execution_count": 88,
   "metadata": {},
   "outputs": [
    {
     "name": "stdout",
     "output_type": "stream",
     "text": [
      "a1 balance :  20000\n",
      "a2 no :  19371564761\n",
      "a1's balance: 13500\n",
      "a2's balance: 39500\n",
      "John Olsson, 19371554951, balance: 13500\n",
      "Liz Olsson, 19371564761, balance: 39500\n"
     ]
    }
   ],
   "source": [
    "class Account:\n",
    "    def __init__(self, name, account_number, initial_amount):\n",
    "        self.name = name\n",
    "        self.no = account_number\n",
    "        self.balance = initial_amount\n",
    "    def deposit(self, amount):\n",
    "        self.balance += amount\n",
    "    def withdraw(self, amount):\n",
    "        self.balance -= amount\n",
    "    def show(self):\n",
    "        s = '%s, %s, balance: %s' % (self.name, self.no, self.balance)\n",
    "        print (s)\n",
    "a1 = Account('John Olsson', '19371554951', 20000)\n",
    "a2 = Account('Liz Olsson', '19371564761', 50000)\n",
    "print(\"a1 balance : \" , a1.balance )\n",
    "print(\"a2 no : \" , a2.no)\n",
    "a1.deposit(1000)\n",
    "a1.withdraw(4000)\n",
    "a2.withdraw(10500)\n",
    "a1.withdraw(3500)\n",
    "print (\"a1's balance:\", a1.balance)\n",
    "print (\"a2's balance:\", a2.balance)\n",
    "a1.show()\n",
    "a2.show()"
   ]
  },
  {
   "cell_type": "code",
   "execution_count": 90,
   "metadata": {},
   "outputs": [
    {
     "name": "stdout",
     "output_type": "stream",
     "text": [
      "Hans Hanson\n",
      "office phone: 767828283\n",
      "email address: h@hanshanson.com\n",
      "\n",
      "Ole Olsen\n",
      "office phone: 767828292\n",
      "email address: olsen@somemail.net\n",
      "\n"
     ]
    }
   ],
   "source": [
    "class Person:\n",
    "    def __init__(self, name,mobile_phone=None, office_phone=None,private_phone=None, email=None):\n",
    "        self.name = name\n",
    "        self.mobile = mobile_phone\n",
    "        self.office = office_phone\n",
    "        self.private = private_phone\n",
    "        self.email = email\n",
    "    def add_mobile_phone(self, number):\n",
    "        self.mobile = number\n",
    "    def add_office_phone(self, number):\n",
    "        self.office = number\n",
    "    def add_private_phone(self, number):\n",
    "        self.private = number\n",
    "    def add_email(self, address):\n",
    "        self.email = address\n",
    "    def dump(self):\n",
    "        s = self.name + '\\n'\n",
    "        if self.mobile is not None:\n",
    "            s += 'mobile phone: %s\\n' % self.mobile\n",
    "        if self.office is not None:\n",
    "            s += 'office phone: %s\\n' % self.office\n",
    "        if self.private is not None:\n",
    "            s += 'private phone: %s\\n' % self.private\n",
    "        if self.email is not None:\n",
    "            s += 'email address: %s\\n' % self.email\n",
    "            print (s)\n",
    "p1 = Person('Hans Hanson',office_phone='767828283', email='h@hanshanson.com')\n",
    "p2 = Person('Ole Olsen', office_phone='767828292')\n",
    "p2.add_email('olsen@somemail.net')\n",
    "phone_book = [p1, p2]\n",
    "for person in phone_book:\n",
    "    person.dump()"
   ]
  },
  {
   "cell_type": "code",
   "execution_count": null,
   "metadata": {},
   "outputs": [],
   "source": []
  },
  {
   "cell_type": "code",
   "execution_count": null,
   "metadata": {},
   "outputs": [],
   "source": []
  }
 ],
 "metadata": {
  "kernelspec": {
   "display_name": "Python 3",
   "language": "python",
   "name": "python3"
  },
  "language_info": {
   "codemirror_mode": {
    "name": "ipython",
    "version": 3
   },
   "file_extension": ".py",
   "mimetype": "text/x-python",
   "name": "python",
   "nbconvert_exporter": "python",
   "pygments_lexer": "ipython3",
   "version": "3.8.5"
  }
 },
 "nbformat": 4,
 "nbformat_minor": 4
}
