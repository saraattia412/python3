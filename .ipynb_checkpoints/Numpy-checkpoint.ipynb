{
 "cells": [
  {
   "cell_type": "code",
   "execution_count": 1,
   "metadata": {},
   "outputs": [],
   "source": [
    "import numpy as np"
   ]
  },
  {
   "cell_type": "code",
   "execution_count": 2,
   "metadata": {},
   "outputs": [],
   "source": [
    "########################################عمليات حسابية###########################################"
   ]
  },
  {
   "cell_type": "code",
   "execution_count": 3,
   "metadata": {},
   "outputs": [
    {
     "name": "stdout",
     "output_type": "stream",
     "text": [
      "-0.9880316240928618 0.15425144988758405 -6.405331196646276\n"
     ]
    }
   ],
   "source": [
    "#الدوال المثلثية ولكن بتتعامل البدائرى مش بالدرجات\n",
    "a=np.sin(30)\n",
    "b=np.cos(30)\n",
    "c=np.tan(30)\n",
    "print(a,b,c)"
   ]
  },
  {
   "cell_type": "code",
   "execution_count": 4,
   "metadata": {},
   "outputs": [
    {
     "name": "stdout",
     "output_type": "stream",
     "text": [
      "0.49999999999999994 0.8660254037844387 0.5773502691896257\n"
     ]
    }
   ],
   "source": [
    "#لعلاج الامر نضرب فى باى على 180\n",
    "a=np.sin(30*np.pi/180)\n",
    "b=np.cos(30*np.pi/180)\n",
    "c=np.tan(30*np.pi/180)\n",
    "print(a,b,c)"
   ]
  },
  {
   "cell_type": "code",
   "execution_count": 6,
   "metadata": {},
   "outputs": [
    {
     "name": "stdout",
     "output_type": "stream",
     "text": [
      "90.0\n",
      "3.141592653589793\n"
     ]
    }
   ],
   "source": [
    "#او تستخدم الدالة الاتية للتحوبل من \n",
    "#rad2deg(x) is 180 * x / pi.\n",
    "a=np.rad2deg(np.pi/2) #from rad to degree\n",
    "#deg2rad(x) is x * pi / 180.\n",
    "b = np.deg2rad(180) #from degree to rad\n",
    "print(a)\n",
    "print(b)"
   ]
  },
  {
   "cell_type": "code",
   "execution_count": 13,
   "metadata": {},
   "outputs": [
    {
     "name": "stdout",
     "output_type": "stream",
     "text": [
      "0.49999999999999994\n",
      "0.8660254037844387\n",
      "0.5773502691896257\n"
     ]
    }
   ],
   "source": [
    "a = np.sin(np.deg2rad(30)) \n",
    "b = np.cos(np.deg2rad(30))\n",
    "c = np.tan(np.deg2rad(30))\n",
    "print(a)\n",
    "print(b)\n",
    "print(c)"
   ]
  },
  {
   "cell_type": "code",
   "execution_count": 14,
   "metadata": {},
   "outputs": [
    {
     "name": "stdout",
     "output_type": "stream",
     "text": [
      "4.0\n",
      "3.7\n",
      "3.69\n",
      "3.685\n",
      "3.6853\n"
     ]
    }
   ],
   "source": [
    "a = np.round(3.68528) #الاقرب للرقم الصحيح لو اكبر من 5 يبقى نقرب للاصغر غير كده للاكبر\n",
    "b = np.round(3.68528,1) #الاقرب لرقم بعد العلامة\n",
    "c = np.round(3.68528,2) #الاقرب لرقمين بعد العلامة\n",
    "d = np.round(3.68528,3)#......3\n",
    "e = np.round(3.68528,4)#.....4\n",
    "print(a)\n",
    "print(b)\n",
    "print(c)\n",
    "print(d)\n",
    "print(e)"
   ]
  },
  {
   "cell_type": "code",
   "execution_count": 15,
   "metadata": {},
   "outputs": [
    {
     "name": "stdout",
     "output_type": "stream",
     "text": [
      "3.0\n",
      "4.0\n"
     ]
    }
   ],
   "source": [
    "a = np.floor(3.68528) #تقريب لاقل رقم صحيح\n",
    "b = np.ceil(3.68528) #تقريب لاكبر رقم صحيح\n",
    "print(a)\n",
    "print(b)"
   ]
  },
  {
   "cell_type": "code",
   "execution_count": 16,
   "metadata": {},
   "outputs": [
    {
     "name": "stdout",
     "output_type": "stream",
     "text": [
      "6\n",
      "32\n"
     ]
    }
   ],
   "source": [
    "a = np.mod(20,7) #20%7\n",
    "b = np.power(2,5) #2**5\n",
    "print(a)\n",
    "print(b)"
   ]
  },
  {
   "cell_type": "code",
   "execution_count": 28,
   "metadata": {},
   "outputs": [],
   "source": [
    "##############################################كتابة مصفوفات###########################################"
   ]
  },
  {
   "cell_type": "code",
   "execution_count": 19,
   "metadata": {},
   "outputs": [
    {
     "name": "stdout",
     "output_type": "stream",
     "text": [
      "[2, 3, 6, 5, 4, 7, 8]\n",
      "[2 3 6 5 4 7 8]\n",
      "-------------------------\n"
     ]
    },
    {
     "data": {
      "text/plain": [
       "([2, 3, 6, 5, 4, 7, 8], array([2, 3, 6, 5, 4, 7, 8]))"
      ]
     },
     "execution_count": 19,
     "metadata": {},
     "output_type": "execute_result"
    }
   ],
   "source": [
    "a = [2,3,6,5,4,7,8]\n",
    "b = np.array(a)\n",
    "print(a)\n",
    "print(b)\n",
    "print('-------------------------')\n",
    "a , b"
   ]
  },
  {
   "cell_type": "code",
   "execution_count": 21,
   "metadata": {},
   "outputs": [
    {
     "name": "stdout",
     "output_type": "stream",
     "text": [
      "[[1, 2, 3], [5, 3, 6], [9, 6, 5]]\n",
      "[[1 2 3]\n",
      " [5 3 6]\n",
      " [9 6 5]]\n",
      "---------------------------\n"
     ]
    },
    {
     "data": {
      "text/plain": [
       "([[1, 2, 3], [5, 3, 6], [9, 6, 5]],\n",
       " array([[1, 2, 3],\n",
       "        [5, 3, 6],\n",
       "        [9, 6, 5]]))"
      ]
     },
     "execution_count": 21,
     "metadata": {},
     "output_type": "execute_result"
    }
   ],
   "source": [
    "#ويمكن عمل مصفوفة ثنائية الابعاد\n",
    "a = [[1,2,3],[5,3,6],[9,6,5]]\n",
    "b = np.array(a)\n",
    "print(a)\n",
    "print(b)\n",
    "print('---------------------------')\n",
    "a  , b"
   ]
  },
  {
   "cell_type": "code",
   "execution_count": 22,
   "metadata": {},
   "outputs": [
    {
     "name": "stdout",
     "output_type": "stream",
     "text": [
      "[[ 2  3  4  5  6  7]\n",
      " [ 4  5  6  7  8  9]\n",
      " [ 6  7  8  9 10 11]\n",
      " [ 7  8  9 10 11 12]]\n"
     ]
    }
   ],
   "source": [
    "a=np.array([range(i,i+6)for i in [2 ,4,6,7]])\n",
    "print(a)"
   ]
  },
  {
   "cell_type": "code",
   "execution_count": 37,
   "metadata": {},
   "outputs": [
    {
     "name": "stdout",
     "output_type": "stream",
     "text": [
      "[('x', 3, 4.2) ('y', 4, 5.3) ('z', 5, 6.3)]\n"
     ]
    },
    {
     "data": {
      "text/plain": [
       "array([('x', 3, 4.2), ('y', 4, 5.3), ('z', 5, 6.3)],\n",
       "      dtype=[('name', '<U5'), ('number', '<i2'), ('value', '<f4')])"
      ]
     },
     "execution_count": 37,
     "metadata": {},
     "output_type": "execute_result"
    }
   ],
   "source": [
    "a = np.array([('x',3,4.2),('y',4,5.3),('z',5,6.3)],dtype =[('name','U5'),('number','i2'),('value','f4')])\n",
    "print(a)\n",
    "a"
   ]
  },
  {
   "cell_type": "code",
   "execution_count": 5,
   "metadata": {},
   "outputs": [
    {
     "name": "stdout",
     "output_type": "stream",
     "text": [
      "[['x' '3' '4.2']\n",
      " ['y' '4' '5.3']\n",
      " ['z' '5' '6.3']]\n"
     ]
    },
    {
     "data": {
      "text/plain": [
       "array([['x', '3', '4.2'],\n",
       "       ['y', '4', '5.3'],\n",
       "       ['z', '5', '6.3']], dtype='<U3')"
      ]
     },
     "execution_count": 5,
     "metadata": {},
     "output_type": "execute_result"
    }
   ],
   "source": [
    "import numpy as np\n",
    "a = np.array([('x',3,4.2),('y',4,5.3),('z',5,6.3)])\n",
    "print(a)\n",
    "a"
   ]
  },
  {
   "cell_type": "code",
   "execution_count": 6,
   "metadata": {},
   "outputs": [
    {
     "name": "stdout",
     "output_type": "stream",
     "text": [
      "[[0. 0.]\n",
      " [0. 0.]\n",
      " [0. 0.]]\n"
     ]
    }
   ],
   "source": [
    "a = np.empty((3,2)) #عمل مصفوفة فارغة\n",
    "print(a) #الى طالعين تقريبا يساوى 0"
   ]
  },
  {
   "cell_type": "code",
   "execution_count": 43,
   "metadata": {},
   "outputs": [
    {
     "name": "stdout",
     "output_type": "stream",
     "text": [
      "2.1440069796746366\n",
      "-------------------------\n",
      "[4.16487329 4.03946011 4.77974437 7.83420998 9.3004616  4.60580733\n",
      " 9.76668422 7.14420493 6.51614171 2.12885653 4.29499039 9.07107366\n",
      " 1.47637234 5.30666124 2.88803935 9.27137418 6.15634913 7.57434946\n",
      " 5.8979621  1.39442511]\n",
      "-------------------------\n"
     ]
    }
   ],
   "source": [
    "a = np.random.uniform(1,10) #رقم عشوائي\n",
    "b = np.random.uniform(1,10,20) #20 رقم عشوائى\n",
    "print(a)\n",
    "print('-------------------------')\n",
    "print(b)\n",
    "print('-------------------------')"
   ]
  },
  {
   "cell_type": "code",
   "execution_count": 44,
   "metadata": {},
   "outputs": [
    {
     "name": "stdout",
     "output_type": "stream",
     "text": [
      "[[0.03155153 0.19412787 0.13694496 0.29111834]\n",
      " [0.30140434 0.34590085 0.33180251 0.81113175]\n",
      " [0.26479077 0.02532332 0.15105485 0.60224912]]\n"
     ]
    }
   ],
   "source": [
    "import numpy as np\n",
    "a =np.random.random((3,4))#عمل مصفوفة بارقام عشوائية من 0ل1 حجمها ما بين القوسين\n",
    "#لازم تعمل قوسين فبعض\n",
    "print(a)"
   ]
  },
  {
   "cell_type": "code",
   "execution_count": 51,
   "metadata": {},
   "outputs": [
    {
     "name": "stdout",
     "output_type": "stream",
     "text": [
      "[-1.17873798 -0.94008582  1.67561218  1.0431884   1.53500019]\n"
     ]
    }
   ],
   "source": [
    "a =np.random.normal(0,1,5) # عمل 5 ارقام متوزغه توزيع طبيعى من 0 ل 1 \n",
    "print(a)"
   ]
  },
  {
   "cell_type": "code",
   "execution_count": 52,
   "metadata": {},
   "outputs": [
    {
     "name": "stdout",
     "output_type": "stream",
     "text": [
      "53\n",
      "4\n",
      "[0 1 3 3 4 0 1]\n",
      "[ 7  9 11  6 10 13  9]\n"
     ]
    }
   ],
   "source": [
    "a = np.random.randint(150) #رقم صحيح عشواءئى من 0 ل149\n",
    "b = np.random.randint(4,8) #رقم صحيح عشوائى من 4 ل7\n",
    "c = np.random.randint(5,size=7)#اعمل 7 ارقام عشوائية من 0 ل4\n",
    "d = np.random.randint(5,20, size=7)\n",
    "print(a)\n",
    "print(b)\n",
    "print(c)\n",
    "print(d)"
   ]
  },
  {
   "cell_type": "code",
   "execution_count": 7,
   "metadata": {},
   "outputs": [
    {
     "name": "stdout",
     "output_type": "stream",
     "text": [
      "[[0 2 7]\n",
      " [4 6 3]\n",
      " [2 8 7]]\n",
      "-----------------------------------------\n",
      "[[[7 8 8 5 5]\n",
      "  [6 8 9 7 7]\n",
      "  [7 9 7 7 8]\n",
      "  [8 5 6 8 7]]\n",
      "\n",
      " [[7 7 9 9 5]\n",
      "  [5 5 8 9 8]\n",
      "  [7 6 8 5 9]\n",
      "  [6 8 7 5 5]]\n",
      "\n",
      " [[9 7 6 9 6]\n",
      "  [7 5 6 5 7]\n",
      "  [5 6 8 5 9]\n",
      "  [7 8 5 7 6]]]\n"
     ]
    }
   ],
   "source": [
    "a = np.random.randint(0, 10, (3, 3)) #مصفوفة ارقام عشوائية صحيحة \n",
    "b = np.random.randint(5,10, size=(3, 4, 5))# مصفوفة ثلاثية الابعاد 3طبقات 4صفوف و5 عواميد\n",
    "print(a)\n",
    "print('-----------------------------------------')\n",
    "print(b)"
   ]
  },
  {
   "cell_type": "code",
   "execution_count": 26,
   "metadata": {},
   "outputs": [
    {
     "name": "stdout",
     "output_type": "stream",
     "text": [
      "[12 12 42  2 39 23 39 52  7 19 38  3 41 54 13 25  5 21  2 24 46 36 23  3\n",
      " 53]\n",
      "[[12 12 42  2 39]\n",
      " [23 39 52  7 19]\n",
      " [38  3 41 54 13]\n",
      " [25  5 21  2 24]\n",
      " [46 36 23  3 53]]\n"
     ]
    }
   ],
   "source": [
    "#عمل مصفوفة ثم اعادة تشكيلها\n",
    "a = np.random.randint(1,60,25)\n",
    "b = np.reshape(a,(5,5))\n",
    "print(a)\n",
    "print(b)"
   ]
  },
  {
   "cell_type": "code",
   "execution_count": 30,
   "metadata": {},
   "outputs": [
    {
     "name": "stdout",
     "output_type": "stream",
     "text": [
      "[0.39562769 0.34731889 0.9201559  0.64025031 0.17325448 0.08016667\n",
      " 0.8006904  0.85489261 0.65798134 0.46771654 0.36183408 0.84153898\n",
      " 0.51484767 0.96135582 0.35751666]\n"
     ]
    },
    {
     "data": {
      "text/plain": [
       "array([[0.39562769, 0.34731889, 0.9201559 , 0.64025031, 0.17325448],\n",
       "       [0.08016667, 0.8006904 , 0.85489261, 0.65798134, 0.46771654],\n",
       "       [0.36183408, 0.84153898, 0.51484767, 0.96135582, 0.35751666]])"
      ]
     },
     "execution_count": 30,
     "metadata": {},
     "output_type": "execute_result"
    }
   ],
   "source": [
    "import numpy as np\n",
    "a = np.random.rand(15) #اعمل 15 رقم عشوائى من 0 ل1\n",
    "print(a)\n",
    "np.reshape(a,(3,5))"
   ]
  },
  {
   "cell_type": "code",
   "execution_count": 31,
   "metadata": {},
   "outputs": [
    {
     "name": "stdout",
     "output_type": "stream",
     "text": [
      "[[0.23964423 0.21732239 0.66784533]\n",
      " [0.31869778 0.8907546  0.17485743]\n",
      " [0.60568877 0.69195711 0.070333  ]\n",
      " [0.52637369 0.54158145 0.7461115 ]\n",
      " [0.53148097 0.11736749 0.20930205]]\n",
      "--------------------------------------\n",
      "[[[0.11767629 0.95277649]\n",
      "  [0.2658327  0.43175102]\n",
      "  [0.56893315 0.71139717]]\n",
      "\n",
      " [[0.16259347 0.65367062]\n",
      "  [0.43867166 0.04903034]\n",
      "  [0.54170857 0.27005046]]\n",
      "\n",
      " [[0.39982115 0.19771381]\n",
      "  [0.59002677 0.4344141 ]\n",
      "  [0.81560743 0.09504451]]\n",
      "\n",
      " [[0.28716189 0.47367386]\n",
      "  [0.62540011 0.12508455]\n",
      "  [0.57677009 0.13918653]]\n",
      "\n",
      " [[0.81873675 0.79243788]\n",
      "  [0.8848727  0.80862049]\n",
      "  [0.17580002 0.77258717]]]\n"
     ]
    }
   ],
   "source": [
    "import numpy as np\n",
    "a = np.random.rand(5,3) #عمل مصفوفة بعدين من0ل1\n",
    "print(a)\n",
    "print('--------------------------------------')\n",
    "b = np.random.rand(5,3,2)#ثلاثية الابعاد\n",
    "print(b)"
   ]
  },
  {
   "cell_type": "code",
   "execution_count": 32,
   "metadata": {},
   "outputs": [
    {
     "name": "stdout",
     "output_type": "stream",
     "text": [
      "3\n",
      "[7 9 6 4 6]\n"
     ]
    }
   ],
   "source": [
    "import numpy as np\n",
    "y=[1,2,3,6,9,8,5,4,7,8,9,6,5,9,6]\n",
    "a = np.random.choice(y) #choose random value\n",
    "print(a)\n",
    "b= np.random.choice(y,size = 5) #أختار اكتر من قيمة\n",
    "print(b)"
   ]
  },
  {
   "cell_type": "code",
   "execution_count": 33,
   "metadata": {},
   "outputs": [
    {
     "name": "stdout",
     "output_type": "stream",
     "text": [
      "[1, 2, 3, 6, 9, 8, 5, 4, 7, 8, 9, 6, 5, 9, 6]\n"
     ]
    },
    {
     "data": {
      "text/plain": [
       "[8, 6, 9, 4, 3, 9, 6, 5, 5, 9, 7, 6, 2, 1, 8]"
      ]
     },
     "execution_count": 33,
     "metadata": {},
     "output_type": "execute_result"
    }
   ],
   "source": [
    "import numpy as np\n",
    "y=[1,2,3,6,9,8,5,4,7,8,9,6,5,9,6]\n",
    "print(y)\n",
    "np.random.shuffle(y) #بيلخبط الليست\n",
    "y"
   ]
  },
  {
   "cell_type": "code",
   "execution_count": 36,
   "metadata": {},
   "outputs": [
    {
     "name": "stdout",
     "output_type": "stream",
     "text": [
      "[0. 0. 0. 0. 0. 0. 0. 0. 0. 0.]\n",
      "[1. 1. 1. 1. 1. 1. 1. 1. 1. 1.]\n"
     ]
    },
    {
     "data": {
      "text/plain": [
       "array([1., 1., 1., 1., 1., 1., 1., 1., 1., 1.])"
      ]
     },
     "execution_count": 36,
     "metadata": {},
     "output_type": "execute_result"
    }
   ],
   "source": [
    "import numpy as np\n",
    "a = np.zeros(10) #مصفوفة اصفار\n",
    "b = np.ones(10) #مصفوفة وحايد\n",
    "print(a)\n",
    "print(b)\n",
    "b"
   ]
  },
  {
   "cell_type": "code",
   "execution_count": 37,
   "metadata": {},
   "outputs": [
    {
     "name": "stdout",
     "output_type": "stream",
     "text": [
      "[[[0. 0. 0. 0. 0.]\n",
      "  [0. 0. 0. 0. 0.]\n",
      "  [0. 0. 0. 0. 0.]]\n",
      "\n",
      " [[0. 0. 0. 0. 0.]\n",
      "  [0. 0. 0. 0. 0.]\n",
      "  [0. 0. 0. 0. 0.]]]\n",
      "[[1. 1. 1. 1. 1. 1. 1. 1.]\n",
      " [1. 1. 1. 1. 1. 1. 1. 1.]\n",
      " [1. 1. 1. 1. 1. 1. 1. 1.]\n",
      " [1. 1. 1. 1. 1. 1. 1. 1.]\n",
      " [1. 1. 1. 1. 1. 1. 1. 1.]\n",
      " [1. 1. 1. 1. 1. 1. 1. 1.]]\n"
     ]
    }
   ],
   "source": [
    "import numpy as np\n",
    "#لو هنعملها من بعدين او اكثر هنجط قوسين جو بعض\n",
    "a = np.zeros((2,3,5))\n",
    "b = np.ones((6,8))\n",
    "print(a)\n",
    "print(b)"
   ]
  },
  {
   "cell_type": "code",
   "execution_count": 38,
   "metadata": {},
   "outputs": [
    {
     "name": "stdout",
     "output_type": "stream",
     "text": [
      "[[1. 0. 0. 0. 0.]\n",
      " [0. 1. 0. 0. 0.]\n",
      " [0. 0. 1. 0. 0.]\n",
      " [0. 0. 0. 1. 0.]\n",
      " [0. 0. 0. 0. 1.]]\n"
     ]
    }
   ],
   "source": [
    "import numpy as np\n",
    "a = np.eye(5) #مصفوفة الوحدة\n",
    "print(a)"
   ]
  },
  {
   "cell_type": "code",
   "execution_count": 40,
   "metadata": {},
   "outputs": [
    {
     "name": "stdout",
     "output_type": "stream",
     "text": [
      "[[35 35 35 35 35]\n",
      " [35 35 35 35 35]\n",
      " [35 35 35 35 35]]\n"
     ]
    }
   ],
   "source": [
    "import numpy as np\n",
    "x=35\n",
    "a=np.full((3,5),x) #عمل مصفوفة مكونة من الرقم اكس\n",
    "print(a)"
   ]
  },
  {
   "cell_type": "code",
   "execution_count": 47,
   "metadata": {},
   "outputs": [
    {
     "data": {
      "text/plain": [
       "array([ 0,  2,  4,  6,  8, 10, 12, 14, 16])"
      ]
     },
     "execution_count": 47,
     "metadata": {},
     "output_type": "execute_result"
    }
   ],
   "source": [
    "np.arange(0,18,2) #array of range 18"
   ]
  },
  {
   "cell_type": "code",
   "execution_count": 48,
   "metadata": {},
   "outputs": [
    {
     "name": "stdout",
     "output_type": "stream",
     "text": [
      "[[ 0  1  2  3  4  5]\n",
      " [ 6  7  8  9 10 11]\n",
      " [12 13 14 15 16 17]]\n",
      "---------------------------------\n",
      "[[[ 0  1  2]\n",
      "  [ 3  4  5]\n",
      "  [ 6  7  8]]\n",
      "\n",
      " [[ 9 10 11]\n",
      "  [12 13 14]\n",
      "  [15 16 17]]\n",
      "\n",
      " [[18 19 20]\n",
      "  [21 22 23]\n",
      "  [24 25 26]]]\n"
     ]
    }
   ],
   "source": [
    "#عمل اراى ثم اعادة تشكيلها\n",
    "a =np.arange(18).reshape(3,6)\n",
    "b =np.arange(27).reshape(3,3,3)\n",
    "print(a)\n",
    "print('---------------------------------')\n",
    "print(b)"
   ]
  },
  {
   "cell_type": "code",
   "execution_count": 109,
   "metadata": {
    "scrolled": true
   },
   "outputs": [
    {
     "name": "stdout",
     "output_type": "stream",
     "text": [
      "[ 1.          2.02040816  3.04081633  4.06122449  5.08163265  6.10204082\n",
      "  7.12244898  8.14285714  9.16326531 10.18367347 11.20408163 12.2244898\n",
      " 13.24489796 14.26530612 15.28571429 16.30612245 17.32653061 18.34693878\n",
      " 19.36734694 20.3877551  21.40816327 22.42857143 23.44897959 24.46938776\n",
      " 25.48979592 26.51020408 27.53061224 28.55102041 29.57142857 30.59183673\n",
      " 31.6122449  32.63265306 33.65306122 34.67346939 35.69387755 36.71428571\n",
      " 37.73469388 38.75510204 39.7755102  40.79591837 41.81632653 42.83673469\n",
      " 43.85714286 44.87755102 45.89795918 46.91836735 47.93877551 48.95918367\n",
      " 49.97959184 51.        ]\n",
      "[  0.  25.  50.  75. 100.]\n"
     ]
    }
   ],
   "source": [
    "import numpy as np\n",
    "b =np.linspace(1,51) #  خمسين رقم بينهم متباعدين بالتساوى\n",
    "c =np.linspace(0,100,5) #خمس ارقام متباعدين بالتساوى بين 0 و 100\n",
    "print(b)\n",
    "print(c)"
   ]
  },
  {
   "cell_type": "code",
   "execution_count": 110,
   "metadata": {},
   "outputs": [
    {
     "name": "stdout",
     "output_type": "stream",
     "text": [
      "[[ 0.          2.72727273  5.45454545  8.18181818]\n",
      " [10.90909091 13.63636364 16.36363636 19.09090909]\n",
      " [21.81818182 24.54545455 27.27272727 30.        ]]\n",
      "---------------------------------------\n",
      "[[[  0.           3.84615385   7.69230769]\n",
      "  [ 11.53846154  15.38461538  19.23076923]\n",
      "  [ 23.07692308  26.92307692  30.76923077]]\n",
      "\n",
      " [[ 34.61538462  38.46153846  42.30769231]\n",
      "  [ 46.15384615  50.          53.84615385]\n",
      "  [ 57.69230769  61.53846154  65.38461538]]\n",
      "\n",
      " [[ 69.23076923  73.07692308  76.92307692]\n",
      "  [ 80.76923077  84.61538462  88.46153846]\n",
      "  [ 92.30769231  96.15384615 100.        ]]]\n"
     ]
    }
   ],
   "source": [
    "import numpy as np\n",
    "b =np.linspace(0,30,12).reshape(3,4)\n",
    "c =np.linspace(0,100,27).reshape(3,3,3)\n",
    "print(b)\n",
    "print('---------------------------------------')\n",
    "print(c)"
   ]
  },
  {
   "cell_type": "code",
   "execution_count": 6,
   "metadata": {},
   "outputs": [
    {
     "name": "stdout",
     "output_type": "stream",
     "text": [
      "[[ 5  0  0  0  0]\n",
      " [ 0 12  0  0  0]\n",
      " [ 0  0  4  0  0]\n",
      " [ 0  0  0 -1  0]\n",
      " [ 0  0  0  0  3]]\n",
      "-------------------------\n",
      "[[ 0  0  0  5  0  0  0  0]\n",
      " [ 0  0  0  0 12  0  0  0]\n",
      " [ 0  0  0  0  0  4  0  0]\n",
      " [ 0  0  0  0  0  0 -1  0]\n",
      " [ 0  0  0  0  0  0  0  3]\n",
      " [ 0  0  0  0  0  0  0  0]\n",
      " [ 0  0  0  0  0  0  0  0]\n",
      " [ 0  0  0  0  0  0  0  0]]\n",
      "-------------------------\n"
     ]
    }
   ],
   "source": [
    "import numpy as np\n",
    "#المصفوفة القطرية\n",
    "a =np.diag(np.array([5,12,4,-1,3])) #هيعمل مصفوفة 5ف5\n",
    "b =np.diag(np.array([5,12,4,-1,3]),k=3)#كى =3 معناها عدد الصفوف الاضافية تساوى 3 \n",
    "#هيضيف 3 عواميد و 3صفوف اصفار شمال وتحت \n",
    "print(a)\n",
    "print('-------------------------')\n",
    "print(b)\n",
    "print('-------------------------')"
   ]
  },
  {
   "cell_type": "code",
   "execution_count": null,
   "metadata": {},
   "outputs": [],
   "source": [
    "#######################################التعامل مع المصفوفات###################################"
   ]
  },
  {
   "cell_type": "code",
   "execution_count": 7,
   "metadata": {},
   "outputs": [
    {
     "name": "stdout",
     "output_type": "stream",
     "text": [
      "[[1 1 6]\n",
      " [9 5 9]\n",
      " [2 0 4]]\n"
     ]
    },
    {
     "data": {
      "text/plain": [
       "8"
      ]
     },
     "execution_count": 7,
     "metadata": {},
     "output_type": "execute_result"
    }
   ],
   "source": [
    "a= np.random.randint(0,10,(3,3))\n",
    "print(a)\n",
    "np.count_nonzero(a) #عدد القيم التى ليس صفر"
   ]
  },
  {
   "cell_type": "code",
   "execution_count": 10,
   "metadata": {},
   "outputs": [
    {
     "name": "stdout",
     "output_type": "stream",
     "text": [
      "[[6 6 1]\n",
      " [2 8 0]\n",
      " [0 3 5]]\n"
     ]
    },
    {
     "data": {
      "text/plain": [
       "3"
      ]
     },
     "execution_count": 10,
     "metadata": {},
     "output_type": "execute_result"
    }
   ],
   "source": [
    "a= np.random.randint(0,10,(3,3))\n",
    "print(a)\n",
    "np.count_nonzero(a>5) #عدد القيم الاكبر من 5"
   ]
  },
  {
   "cell_type": "code",
   "execution_count": 14,
   "metadata": {},
   "outputs": [
    {
     "name": "stdout",
     "output_type": "stream",
     "text": [
      "[[4 7 4]\n",
      " [2 9 2]\n",
      " [9 5 4]]\n",
      "---------------------------------------\n",
      "[1 1 1]\n",
      "---------------------------------------\n",
      "[2 2 3]\n"
     ]
    }
   ],
   "source": [
    "import numpy as np\n",
    "a = np.random.randint(0, 10, (3, 3))\n",
    "b = np.count_nonzero(a>5,axis=1) #امسك كل عمود فاول صف وخش عالى بعده\n",
    "c = np.count_nonzero(a<8,axis=0) #هنمسك كل صف فالعمود فالول ويعدين كل صف فالى بعده\n",
    "print(a)\n",
    "print('---------------------------------------')\n",
    "print(b)\n",
    "print('---------------------------------------')\n",
    "print(c)"
   ]
  },
  {
   "cell_type": "code",
   "execution_count": 15,
   "metadata": {},
   "outputs": [
    {
     "name": "stdout",
     "output_type": "stream",
     "text": [
      "[[4 7 4]\n",
      " [2 9 2]\n",
      " [9 5 4]]\n"
     ]
    },
    {
     "data": {
      "text/plain": [
       "True"
      ]
     },
     "execution_count": 15,
     "metadata": {},
     "output_type": "execute_result"
    }
   ],
   "source": [
    "s=np.random.randint(0,10,(3,3))\n",
    "print(a)\n",
    "np.any(a>5) #هل يوجد اى قيمة اكبر من 5"
   ]
  },
  {
   "cell_type": "code",
   "execution_count": 16,
   "metadata": {},
   "outputs": [
    {
     "name": "stdout",
     "output_type": "stream",
     "text": [
      "[[4 7 4]\n",
      " [2 9 2]\n",
      " [9 5 4]]\n"
     ]
    },
    {
     "data": {
      "text/plain": [
       "array([ True,  True,  True])"
      ]
     },
     "execution_count": 16,
     "metadata": {},
     "output_type": "execute_result"
    }
   ],
   "source": [
    "s=np.random.randint(0,10,(3,3))\n",
    "print(a)\n",
    "np.any(a>5,axis=1) #امسك كل عمود فاول صف ثم خش عالصف الى بعده"
   ]
  },
  {
   "cell_type": "code",
   "execution_count": 17,
   "metadata": {},
   "outputs": [
    {
     "name": "stdout",
     "output_type": "stream",
     "text": [
      "[[4 7 4]\n",
      " [2 9 2]\n",
      " [9 5 4]]\n"
     ]
    },
    {
     "data": {
      "text/plain": [
       "False"
      ]
     },
     "execution_count": 17,
     "metadata": {},
     "output_type": "execute_result"
    }
   ],
   "source": [
    "s=np.random.randint(0,10,(3,3))\n",
    "print(a)\n",
    "np.all(a>5)#هل كل العناصر اكبرمن 5"
   ]
  },
  {
   "cell_type": "code",
   "execution_count": 18,
   "metadata": {},
   "outputs": [
    {
     "name": "stdout",
     "output_type": "stream",
     "text": [
      "[[10 11  9]\n",
      " [19 12  6]\n",
      " [16 10 18]]\n",
      "-------------------------\n",
      "[[False  True False]\n",
      " [ True  True False]\n",
      " [ True False  True]]\n",
      "-------------------------\n",
      "[[ True  True  True]\n",
      " [False  True  True]\n",
      " [False  True False]]\n",
      "-------------------------\n",
      "[11 19 12 16 18]\n",
      "-------------------------\n",
      "[10 11  9 12  6 10]\n"
     ]
    }
   ],
   "source": [
    "a =np.random.randint(5,20, size=9).reshape(3,3)\n",
    "b = a>10 #هيلوب على كل عنصر يشوفه هيحقق الشرط ول لا\n",
    "c = a<15\n",
    "d = a[b] #حط القيم اللى بترو\n",
    "e = a[c]\n",
    "print(a)\n",
    "print('-------------------------')\n",
    "print(b)\n",
    "print('-------------------------')\n",
    "print(c)\n",
    "print('-------------------------')\n",
    "print(d)\n",
    "print('-------------------------')\n",
    "print(e)"
   ]
  },
  {
   "cell_type": "code",
   "execution_count": 57,
   "metadata": {},
   "outputs": [
    {
     "name": "stdout",
     "output_type": "stream",
     "text": [
      "[[0 1 2]\n",
      " [3 4 5]\n",
      " [6 7 8]]\n",
      "-------------------------\n",
      "[[0 1 2]\n",
      " [3 4 5]\n",
      " [6 7 8]]\n",
      "-------------------------\n",
      "[[ 0  4  8]\n",
      " [12 16 20]\n",
      " [24 28 32]]\n",
      "-------------------------\n",
      "[[ True  True  True]\n",
      " [ True  True  True]\n",
      " [ True  True  True]]\n",
      "-------------------------\n",
      "[[ True False False]\n",
      " [False False False]\n",
      " [False False False]]\n"
     ]
    }
   ],
   "source": [
    "import numpy as np\n",
    "a =np.arange(9).reshape(3,3)\n",
    "b =np.arange(9).reshape(3,3)\n",
    "c = 4*b\n",
    "d = np.isclose(a,b,rtol = 0.1) #هل القيم فلمصفوفتين قريبين من بعض ؟\n",
    "e = np.isclose(a,c,rtol = 0.1)\n",
    "#rtol = (a-b)/max(a,b)  الفارق المسموح بينهم\n",
    "#لازم المصفوفتين نفس الحجم\n",
    "print(a)\n",
    "print('-------------------------')\n",
    "print(b)\n",
    "print('-------------------------')\n",
    "print(c)\n",
    "print('-------------------------')\n",
    "print(d)\n",
    "print('-------------------------')\n",
    "print(e)"
   ]
  },
  {
   "cell_type": "code",
   "execution_count": 64,
   "metadata": {},
   "outputs": [
    {
     "name": "stdout",
     "output_type": "stream",
     "text": [
      "[0 1 2 3 4]\n",
      "[ 0. 10. 20. 30. 40.]\n"
     ]
    }
   ],
   "source": [
    "import numpy as np\n",
    "a=np.arange(5)\n",
    "b=np.empty(5)\n",
    "#a*10 ->b   ضرب دوت\n",
    "np.multiply(a,10,out=b)\n",
    "print(a)\n",
    "print(b)"
   ]
  },
  {
   "cell_type": "code",
   "execution_count": 61,
   "metadata": {},
   "outputs": [
    {
     "name": "stdout",
     "output_type": "stream",
     "text": [
      "[0 1 2 3 4]\n",
      "[  0.   1.  16.  81. 256.]\n"
     ]
    }
   ],
   "source": [
    "a=np.arange(5)\n",
    "b=np.empty(5)\n",
    "np.power(a,4,out=b)\n",
    "#every element in a =a**4\n",
    "print(a)\n",
    "print(b)"
   ]
  },
  {
   "cell_type": "code",
   "execution_count": 75,
   "metadata": {},
   "outputs": [
    {
     "name": "stdout",
     "output_type": "stream",
     "text": [
      "105\n"
     ]
    }
   ],
   "source": [
    "import numpy as np\n",
    "a=np.arange(15)\n",
    "b=np.add.reduce(a)#مجموع قيم المصفوفة\n",
    "print(b)"
   ]
  },
  {
   "cell_type": "code",
   "execution_count": 76,
   "metadata": {},
   "outputs": [
    {
     "name": "stdout",
     "output_type": "stream",
     "text": [
      "[[ 0  1  2  3  4]\n",
      " [ 5  6  7  8  9]\n",
      " [10 11 12 13 14]]\n",
      "[15 18 21 24 27]\n"
     ]
    }
   ],
   "source": [
    "import numpy as np\n",
    "a=np.arange(15).reshape(3,5)\n",
    "#b=np.add.reduce(a,axis=1) #->[10 35 60] مجموع كل صف\n",
    "b=np.add.reduce(a,axis=0) #-> [15 18 21 24 27] مجموع كل عمود\n",
    "\n",
    "print(a)\n",
    "print(b)"
   ]
  },
  {
   "cell_type": "code",
   "execution_count": 77,
   "metadata": {},
   "outputs": [
    {
     "name": "stdout",
     "output_type": "stream",
     "text": [
      "5040\n"
     ]
    }
   ],
   "source": [
    "a= np.arange(2,8)\n",
    "b= np.multiply.reduce(a) #ضرب عناصر المجموعه\n",
    "print(b)"
   ]
  },
  {
   "cell_type": "code",
   "execution_count": 80,
   "metadata": {},
   "outputs": [
    {
     "name": "stdout",
     "output_type": "stream",
     "text": [
      "[2 3 4 5 6 7]\n",
      "[[ 4  6  8 10 12 14]\n",
      " [ 6  9 12 15 18 21]\n",
      " [ 8 12 16 20 24 28]\n",
      " [10 15 20 25 30 35]\n",
      " [12 18 24 30 36 42]\n",
      " [14 21 28 35 42 49]]\n"
     ]
    }
   ],
   "source": [
    "a=np.arange(2,8)\n",
    "b= np.multiply.outer(a,a) #عملية ضرب تبادلى اضرب كل عنصر لوحده فكل عناصر المصفوفة\n",
    "print(a)\n",
    "print(b)"
   ]
  },
  {
   "cell_type": "code",
   "execution_count": 81,
   "metadata": {},
   "outputs": [
    {
     "name": "stdout",
     "output_type": "stream",
     "text": [
      "[0 1 2 3 4 5 6 7 8 9]\n",
      "[ 0  1  3  6 10 15 21 28 36 45]\n"
     ]
    }
   ],
   "source": [
    "import numpy as np\n",
    "a=np.arange(10)\n",
    "b=np.add.accumulate(a)#جمع كل عنصر مع العناصر الى قبله\n",
    "#[a,b,c,d,....]\n",
    "#[a,a+b,a+b+c,a+b+c+d,......]\n",
    "print(a)\n",
    "print(b)"
   ]
  },
  {
   "cell_type": "code",
   "execution_count": 82,
   "metadata": {},
   "outputs": [
    {
     "name": "stdout",
     "output_type": "stream",
     "text": [
      "[2 3 4 5 6 7]\n",
      "[   2    6   24  120  720 5040]\n"
     ]
    }
   ],
   "source": [
    "a=np.arange(2,8)\n",
    "b=np.multiply.accumulate(a) #اضرب كل عنصر فالعناصر السابقة\n",
    "print(a)\n",
    "print(b)"
   ]
  },
  {
   "cell_type": "code",
   "execution_count": 87,
   "metadata": {},
   "outputs": [
    {
     "name": "stdout",
     "output_type": "stream",
     "text": [
      "12\n",
      "3\n"
     ]
    }
   ],
   "source": [
    "import numpy as np\n",
    "a=np.arange(12)\n",
    "b=a.reshape(3,4)\n",
    "c=len(a) #عدد الليست\n",
    "d=len(b)# عدد الصفوف\n",
    "print(c)\n",
    "print(d)"
   ]
  },
  {
   "cell_type": "code",
   "execution_count": 88,
   "metadata": {},
   "outputs": [
    {
     "name": "stdout",
     "output_type": "stream",
     "text": [
      "12\n",
      "12\n"
     ]
    }
   ],
   "source": [
    "import numpy as np\n",
    "a=np.arange(12)\n",
    "b=a.reshape(3,4)\n",
    "c=a.size #عدد الليست\n",
    "d=b.size# عدد عناصر الاراى كاملة\n",
    "print(c)\n",
    "print(d)"
   ]
  },
  {
   "cell_type": "code",
   "execution_count": 89,
   "metadata": {},
   "outputs": [
    {
     "name": "stdout",
     "output_type": "stream",
     "text": [
      "(12,)\n",
      "(3, 4)\n"
     ]
    }
   ],
   "source": [
    "#shape لو عاوز اعرف ابعاد المصفوفة\n",
    "a=np.arange(12)\n",
    "b=a.shape\n",
    "c=a.reshape(3,4)\n",
    "d=c.shape\n",
    "print(b)\n",
    "print(d)"
   ]
  },
  {
   "cell_type": "code",
   "execution_count": 91,
   "metadata": {},
   "outputs": [
    {
     "name": "stdout",
     "output_type": "stream",
     "text": [
      "1\n",
      "2\n"
     ]
    }
   ],
   "source": [
    "import numpy as np\n",
    "a=np.arange(12)\n",
    "b=a.ndim #number of dimention\n",
    "c=a.reshape(3,4)\n",
    "d=c.ndim #number of dimention\n",
    "print(b)\n",
    "print(d)"
   ]
  },
  {
   "cell_type": "code",
   "execution_count": 92,
   "metadata": {},
   "outputs": [
    {
     "name": "stdout",
     "output_type": "stream",
     "text": [
      "['a' 'd' 'g' 'h' 'j']\n",
      "<U1\n",
      "[ 0  1  2  3  4  5  6  7  8  9 10 11]\n",
      "[[ 0  1  2  3]\n",
      " [ 4  5  6  7]\n",
      " [ 8  9 10 11]]\n",
      "int32\n"
     ]
    }
   ],
   "source": [
    "a =np.array(['a','d','g','h','j'])\n",
    "b = a.dtype #نوعها اى\n",
    "c = np.arange(12)\n",
    "d = c.reshape(3,4)\n",
    "e = d.dtype\n",
    "print(a)\n",
    "print(b)\n",
    "print(c)\n",
    "print(d)\n",
    "print(e)"
   ]
  },
  {
   "cell_type": "code",
   "execution_count": 98,
   "metadata": {},
   "outputs": [
    {
     "name": "stdout",
     "output_type": "stream",
     "text": [
      "[[12]\n",
      " [34]]\n",
      "[[123]\n",
      " [456]]\n"
     ]
    }
   ],
   "source": [
    "import numpy as np\n",
    "a=np.matrix('{}{};{}{}'.format(1,2,3,4)) #تشكيل للمصفوفة\n",
    "b=np.matrix('{}{}{};{}{}{}'.format(1,2,3,4,5,6))\n",
    "print(a)\n",
    "print(b)"
   ]
  },
  {
   "cell_type": "code",
   "execution_count": 101,
   "metadata": {},
   "outputs": [
    {
     "name": "stdout",
     "output_type": "stream",
     "text": [
      "[[0 1 2]\n",
      " [3 4 5]\n",
      " [6 7 8]]\n",
      "12\n"
     ]
    }
   ],
   "source": [
    "a =np.arange(9)\n",
    "b = a.reshape(3,3)\n",
    "c=np.trace(b) #بجمع قيم المحور \n",
    "print(b)\n",
    "print(c)"
   ]
  },
  {
   "cell_type": "code",
   "execution_count": 102,
   "metadata": {},
   "outputs": [
    {
     "name": "stdout",
     "output_type": "stream",
     "text": [
      "[0 1 2 3 4 5 6 7 8]\n",
      "[[0 1 2]\n",
      " [3 4 5]\n",
      " [6 7 8]]\n",
      "0.0\n",
      "(array([ 1.33484692e+01, -1.34846923e+00, -1.15433316e-15]), array([[ 0.16476382,  0.79969966,  0.40824829],\n",
      "       [ 0.50577448,  0.10420579, -0.81649658],\n",
      "       [ 0.84678513, -0.59128809,  0.40824829]]))\n"
     ]
    }
   ],
   "source": [
    "a =np.arange(9)\n",
    "b = a.reshape(3,3)\n",
    "c = np.linalg.det(b) #قيمة المصفوفة تسمى ديترمنت\n",
    "#a b\n",
    "#c d\n",
    "#-> a*d-b*c   لو المصفوقة 2*2\n",
    "\n",
    "d = np.linalg.eig(b) #ايجن فاليو (معرفش اى دى)\n",
    "print(a)\n",
    "print(b)\n",
    "print(c)\n",
    "print(d)"
   ]
  },
  {
   "cell_type": "code",
   "execution_count": 104,
   "metadata": {},
   "outputs": [
    {
     "name": "stdout",
     "output_type": "stream",
     "text": [
      "[0 1 2 3 4 5 6 7 8 9]\n",
      "3\n",
      "[3 4 5 6 7 8]\n",
      "[3 5 7]\n",
      "9\n",
      "7\n"
     ]
    }
   ],
   "source": [
    "a =np.arange(10)\n",
    "c = a[3]\n",
    "d = a[3:9]\n",
    "e = a[3:9:2]\n",
    "f = a[-1]\n",
    "g = a[-3]\n",
    "print(a)\n",
    "print(c)\n",
    "print(d)\n",
    "print(e)\n",
    "print(f)\n",
    "print(g)"
   ]
  },
  {
   "cell_type": "code",
   "execution_count": 105,
   "metadata": {},
   "outputs": [
    {
     "name": "stdout",
     "output_type": "stream",
     "text": [
      "[[ 0  1  2  3  4  5]\n",
      " [ 6  7  8  9 10 11]\n",
      " [12 13 14 15 16 17]\n",
      " [18 19 20 21 22 23]\n",
      " [24 25 26 27 28 29]\n",
      " [30 31 32 33 34 35]]\n",
      "-------------------------\n",
      "[18 19 20 21 22 23]\n",
      "-------------------------\n",
      "[[18 19 20 21 22 23]\n",
      " [24 25 26 27 28 29]\n",
      " [30 31 32 33 34 35]]\n",
      "-------------------------\n",
      "[[18 19 20 21 22 23]\n",
      " [30 31 32 33 34 35]]\n",
      "-------------------------\n",
      "[30 31 32 33 34 35]\n",
      "-------------------------\n",
      "[18 19 20 21 22 23]\n"
     ]
    }
   ],
   "source": [
    "a =np.arange(36).reshape(6,6)\n",
    "c = a[3]#صف الرابع\n",
    "d = a[3:9] #من الصف اارابع للتاسع  لو مش مكملين 9 يبقى من الرابع للاخير\n",
    "e = a[3:9:2]\n",
    "f = a[-1] #الاخير\n",
    "g = a[-3]\n",
    "print(a)\n",
    "print('-------------------------')\n",
    "print(c)\n",
    "print('-------------------------')\n",
    "print(d)\n",
    "print('-------------------------')\n",
    "print(e)\n",
    "print('-------------------------')\n",
    "print(f)\n",
    "print('-------------------------')\n",
    "print(g)"
   ]
  },
  {
   "cell_type": "code",
   "execution_count": 3,
   "metadata": {},
   "outputs": [
    {
     "name": "stdout",
     "output_type": "stream",
     "text": [
      "[[ 0  1  2  3  4  5]\n",
      " [ 6  7  8  9 10 11]\n",
      " [12 13 14 15 16 17]\n",
      " [18 19 20 21 22 23]\n",
      " [24 25 26 27 28 29]\n",
      " [30 31 32 33 34 35]]\n",
      "-------------------------\n",
      "19\n",
      "-------------------------\n",
      "[18 19 20 21 22 23]\n",
      "-------------------------\n",
      "[ 2  8 14 20 26 32]\n",
      "-------------------------\n",
      "[[ 1  2]\n",
      " [ 7  8]\n",
      " [13 14]\n",
      " [19 20]\n",
      " [25 26]\n",
      " [31 32]]\n",
      "-------------------------\n",
      "[[ 6  7  8  9 10 11]]\n"
     ]
    }
   ],
   "source": [
    "import numpy as np\n",
    "a =np.arange(36).reshape(6,6)\n",
    "c = a[3,1]\n",
    "#[row,colmn]\n",
    "d = a[3,:]\n",
    "e = a[:,2]\n",
    "f = a[:,1:3]\n",
    "g = a[1:2,:]\n",
    "print(a)\n",
    "print('-------------------------')\n",
    "print(c)\n",
    "print('-------------------------')\n",
    "print(d)\n",
    "print('-------------------------')\n",
    "print(e)\n",
    "print('-------------------------')\n",
    "print(f)\n",
    "print('-------------------------')\n",
    "print(g)"
   ]
  },
  {
   "cell_type": "code",
   "execution_count": 10,
   "metadata": {},
   "outputs": [
    {
     "name": "stdout",
     "output_type": "stream",
     "text": [
      "[[ 0  1  2  3  4  5]\n",
      " [ 6  7  8  9 10 11]\n",
      " [12 13 14 15 16 17]\n",
      " [18 19 20 21 22 23]\n",
      " [24 25 26 27 28 29]\n",
      " [30 31 32 33 34 35]]\n",
      "-------------------------\n",
      "[[19 20 21 22]]\n",
      "-------------------------\n",
      "[[15 16 17]\n",
      " [21 22 23]\n",
      " [27 28 29]\n",
      " [33 34 35]]\n",
      "-------------------------\n",
      "[[0 1 2]\n",
      " [6 7 8]]\n",
      "-------------------------\n",
      "[ 5 11 17 23 29 35]\n",
      "-------------------------\n",
      "[30 31 32 33 34 35]\n"
     ]
    }
   ],
   "source": [
    "a =np.arange(36).reshape(6,6)\n",
    "c = a[3:4,1:5]\n",
    "d = a[2:,3:]\n",
    "e = a[:2,:3]\n",
    "f = a[:,-1]\n",
    "g = a[-1,:]\n",
    "print(a)\n",
    "print('-------------------------')\n",
    "print(c)\n",
    "print('-------------------------')\n",
    "print(d)\n",
    "print('-------------------------')\n",
    "print(e)\n",
    "print('-------------------------')\n",
    "print(f)\n",
    "print('-------------------------')\n",
    "print(g) "
   ]
  },
  {
   "cell_type": "code",
   "execution_count": 11,
   "metadata": {},
   "outputs": [
    {
     "name": "stdout",
     "output_type": "stream",
     "text": [
      "[[ 0  1  2  3  4  5]\n",
      " [ 6  7  8  9 10 11]\n",
      " [12 13 14 15 16 17]\n",
      " [18 19 20 21 22 23]\n",
      " [24 25 26 27 28 29]\n",
      " [30 31 32 33 34 35]]\n",
      "-------------------------\n",
      "[[ 0  3]\n",
      " [12 15]\n",
      " [24 27]]\n",
      "-------------------------\n",
      "[[35 34 33 32 31 30]\n",
      " [29 28 27 26 25 24]\n",
      " [23 22 21 20 19 18]\n",
      " [17 16 15 14 13 12]\n",
      " [11 10  9  8  7  6]\n",
      " [ 5  4  3  2  1  0]]\n",
      "-------------------------\n",
      "[[35 34]\n",
      " [29 28]\n",
      " [23 22]]\n",
      "-------------------------\n",
      "[[15]\n",
      " [27]]\n",
      "-------------------------\n",
      "[[35]]\n"
     ]
    }
   ],
   "source": [
    "a =np.arange(36).reshape(6,6)\n",
    "c = a[::2,::3]\n",
    "d = a[::-1,::-1]\n",
    "e = a[:2:-1,:3:-1]\n",
    "f = a[2::2,3::3]\n",
    "g = a[-1::,-1::]\n",
    "print(a)\n",
    "print('-------------------------')\n",
    "print(c)\n",
    "print('-------------------------')\n",
    "print(d)\n",
    "print('-------------------------')\n",
    "print(e)\n",
    "print('-------------------------')\n",
    "print(f)\n",
    "print('-------------------------')\n",
    "print(g)"
   ]
  },
  {
   "cell_type": "code",
   "execution_count": 12,
   "metadata": {},
   "outputs": [
    {
     "name": "stdout",
     "output_type": "stream",
     "text": [
      "[[ 0  1  2  3]\n",
      " [ 4  5  6  7]\n",
      " [ 8  9 10 11]\n",
      " [12 13 14 15]]\n",
      "[[ 0  1  2  3]\n",
      " [ 4  5  6  7]\n",
      " [ 8  9 10  0]\n",
      " [12 13 14 15]]\n",
      "[[ 0  1  2  0]\n",
      " [ 4  5  6  0]\n",
      " [ 8  9 10  0]\n",
      " [12 13 14  0]]\n",
      "[[ 0  1  2  0]\n",
      " [ 4  5  6  0]\n",
      " [ 0  0  0  0]\n",
      " [12 13 14  0]]\n",
      "[[0 0 0 0]\n",
      " [0 0 0 0]\n",
      " [0 0 0 0]\n",
      " [0 0 0 0]]\n"
     ]
    }
   ],
   "source": [
    "a=np.arange(16).reshape(4,4)\n",
    "print(a)\n",
    "a[2,3] = 0\n",
    "print(a)\n",
    "a[:,3] = 0\n",
    "print(a)\n",
    "a[2,:] = 0\n",
    "print(a)\n",
    "a[:,:] = 0\n",
    "\n",
    "print(a)"
   ]
  },
  {
   "cell_type": "code",
   "execution_count": 16,
   "metadata": {},
   "outputs": [
    {
     "name": "stdout",
     "output_type": "stream",
     "text": [
      "[[ 0  1  2  3]\n",
      " [ 4  5  6  7]\n",
      " [ 8  9 10 11]\n",
      " [12 13 14 15]]\n",
      "[[ 1  2]\n",
      " [ 5  6]\n",
      " [ 9 10]\n",
      " [13 14]]\n",
      "[[5 5 5 5]\n",
      " [5 5 5 5]\n",
      " [5 5 5 5]\n",
      " [5 5 5 5]]\n",
      "[[5 5]\n",
      " [5 5]\n",
      " [5 5]\n",
      " [5 5]]\n"
     ]
    }
   ],
   "source": [
    "import numpy as np\n",
    "a =np.arange(16).reshape(4,4)\n",
    "print(a)\n",
    "#لو مخدتش كوبى (زى فى المثال التاللى) هيفضلوا مربوطين ببعض ان تغير الاول تغير الثانى والعكس\n",
    "b = a[:,1:3]\n",
    "print(b)\n",
    "a[:,:] = 5\n",
    "print(a)\n",
    "print(b)"
   ]
  },
  {
   "cell_type": "code",
   "execution_count": 17,
   "metadata": {},
   "outputs": [
    {
     "name": "stdout",
     "output_type": "stream",
     "text": [
      "[[ 0  1  2  3]\n",
      " [ 4  5  6  7]\n",
      " [ 8  9 10 11]\n",
      " [12 13 14 15]]\n",
      "[[ 1  2]\n",
      " [ 5  6]\n",
      " [ 9 10]\n",
      " [13 14]]\n",
      "[[5 5 5 5]\n",
      " [5 5 5 5]\n",
      " [5 5 5 5]\n",
      " [5 5 5 5]]\n",
      "[[ 1  2]\n",
      " [ 5  6]\n",
      " [ 9 10]\n",
      " [13 14]]\n"
     ]
    }
   ],
   "source": [
    "a =np.arange(16).reshape(4,4)\n",
    "print(a)\n",
    "b = a[:,1:3].copy()\n",
    "#خدت نسخة مبقوش مرتبطين ببعض\n",
    "print(b)\n",
    "a[:,:] = 5\n",
    "print(a)\n",
    "print(b)"
   ]
  },
  {
   "cell_type": "code",
   "execution_count": 18,
   "metadata": {},
   "outputs": [
    {
     "name": "stdout",
     "output_type": "stream",
     "text": [
      "[[[ 0  1]\n",
      "  [ 2  3]\n",
      "  [ 4  5]]\n",
      "\n",
      " [[ 6  7]\n",
      "  [ 8  9]\n",
      "  [10 11]]\n",
      "\n",
      " [[12 13]\n",
      "  [14 15]\n",
      "  [16 17]]]\n",
      "-------------------------\n",
      "[[ 6  7]\n",
      " [ 8  9]\n",
      " [10 11]]\n",
      "-------------------------\n",
      "[10 11]\n",
      "-------------------------\n",
      "17\n"
     ]
    }
   ],
   "source": [
    "import numpy as np\n",
    "a=np.arange(18).reshape(3,3,2) #(dim,row,col)\n",
    "c = a[1] #dim 2\n",
    "d = a[1,2] # dim 2 row 3\n",
    "e = a[2,2,1] # dim 3 row 3 col 2\n",
    "print(a)\n",
    "print('-------------------------')\n",
    "print(c)\n",
    "print('-------------------------')\n",
    "print(d)\n",
    "print('-------------------------')\n",
    "print(e)"
   ]
  },
  {
   "cell_type": "code",
   "execution_count": 22,
   "metadata": {},
   "outputs": [
    {
     "name": "stdout",
     "output_type": "stream",
     "text": [
      "[11 22 33] [44 55 66] [77 88]\n",
      "[11] [22 33 44 55] [66 77 88]\n",
      "[11 22 33 44 55 66] [] [44 55 66 77 88]\n",
      "[] [11 22 33] [44 55 66 77 88]\n",
      "[11 22 33 44] [] [11 22 33 44 55 66 77 88]\n",
      "[11 22] [] [33 44 55 66 77 88]\n"
     ]
    }
   ],
   "source": [
    "import numpy as np\n",
    "x = [11,22,33,44,55,66,77,88]\n",
    "x1, x2, x3 = np.split(x, (3,6)) #x1=from 0 to 2 , x2 = from 3 to 5  , x3 = from 6 to end\n",
    "print(x1, x2, x3)\n",
    "x1, x2, x3 = np.split(x, (1,5)) # x1 = x[0] , x2 = x[1:5] , x3 = x[5:]\n",
    "print(x1, x2, x3)\n",
    "x1, x2, x3 = np.split(x, (6, 3)) # x1 = x[0:6] , x2 = x[] ,x3 = x[3:]\n",
    "print(x1, x2, x3)\n",
    "x1, x2, x3 = np.split(x, (0, 3)) #x1 = [], x2 = [0:3] , x3 = [3:]\n",
    "print(x1, x2, x3)\n",
    "x1, x2, x3 = np.split(x, (4, 0)) # x= [0:4] ,x2=[] ,x3=[0:]\n",
    "print(x1, x2, x3)\n",
    "x1 , x2, x3 = np.split(x,(2,2)) #[11,22] [] [33,55,66,77,88]\n",
    "print(x1, x2, x3)\n"
   ]
  },
  {
   "cell_type": "code",
   "execution_count": 25,
   "metadata": {},
   "outputs": [
    {
     "name": "stdout",
     "output_type": "stream",
     "text": [
      "[[ 0  1  2  3]\n",
      " [ 4  5  6  7]\n",
      " [ 8  9 10 11]\n",
      " [12 13 14 15]]\n",
      "9\n"
     ]
    }
   ],
   "source": [
    "a =np.arange(16).reshape(4,4)\n",
    "b = a[2][1]\n",
    "print(a)\n",
    "print(b)"
   ]
  },
  {
   "cell_type": "code",
   "execution_count": 27,
   "metadata": {},
   "outputs": [
    {
     "name": "stdout",
     "output_type": "stream",
     "text": [
      "[[0 1]\n",
      " [2 3]]\n",
      "-------------------------\n",
      "[[0 2]\n",
      " [4 6]]\n",
      "-------------------------\n",
      "[[0 1]\n",
      " [2 3]\n",
      " [0 2]\n",
      " [4 6]]\n"
     ]
    }
   ],
   "source": [
    "import numpy as np\n",
    "a =np.arange(4).reshape(2,2)\n",
    "b =2*np.arange(4).reshape(2,2)\n",
    "c= np.vstack((a,b)) #ضم المصفوفتان راسيا v for vertical\n",
    "#لازم يكونو نفس عدد الاعمدة\n",
    "print(a)\n",
    "print('-------------------------')\n",
    "print(b)\n",
    "print('-------------------------')\n",
    "print(c)"
   ]
  },
  {
   "cell_type": "code",
   "execution_count": 35,
   "metadata": {},
   "outputs": [
    {
     "name": "stdout",
     "output_type": "stream",
     "text": [
      "[[0 1]\n",
      " [2 3]]\n",
      "-------------------------\n",
      "[[0 2]\n",
      " [4 6]]\n",
      "-------------------------\n",
      "[[0 1 0 2]\n",
      " [2 3 4 6]]\n"
     ]
    }
   ],
   "source": [
    "a= np.arange(4).reshape(2,2)\n",
    "b=2*np.arange(4).reshape(2,2)\n",
    "c= np.hstack((a,b)) #ضم المصفوفتان افقيا h for horizontal\n",
    "# يجب ان يكون نفس عدد الصفز\n",
    "print(a)\n",
    "print('-------------------------')\n",
    "print(b)\n",
    "print('-------------------------')\n",
    "print(c)"
   ]
  },
  {
   "cell_type": "code",
   "execution_count": 39,
   "metadata": {},
   "outputs": [
    {
     "name": "stdout",
     "output_type": "stream",
     "text": [
      "[[ 9 19 10]\n",
      " [18 17  6]\n",
      " [ 8 15  5]]\n",
      "-------------------------\n",
      "[[ 8  8 12]\n",
      " [ 6 15 15]\n",
      " [12  7  6]]\n",
      "-------------------------\n",
      "[[ 9 19 10]\n",
      " [18 17  6]\n",
      " [ 8 15  5]\n",
      " [ 8  8 12]\n",
      " [ 6 15 15]\n",
      " [12  7  6]]\n",
      "-------------------------\n"
     ]
    }
   ],
   "source": [
    "a= np.random.randint(5,20, size=9).reshape(3,3)\n",
    "b= np.random.randint(5,20, size=9).reshape(3,3)\n",
    "c= np.concatenate([a,b],axis=0) # axis =0  row  ====> add row =======> vertical (vstack)\n",
    "print(a)\n",
    "print('-------------------------')\n",
    "print(b)\n",
    "print('-------------------------')\n",
    "print(c)\n",
    "print('-------------------------')"
   ]
  },
  {
   "cell_type": "code",
   "execution_count": 40,
   "metadata": {},
   "outputs": [
    {
     "name": "stdout",
     "output_type": "stream",
     "text": [
      "[[12 18  6]\n",
      " [11 10  8]\n",
      " [ 8 10 10]]\n",
      "-------------------------\n",
      "[[ 5 13 11]\n",
      " [19  8 14]\n",
      " [10  5 17]]\n",
      "-------------------------\n",
      "[[12 18  6  5 13 11]\n",
      " [11 10  8 19  8 14]\n",
      " [ 8 10 10 10  5 17]]\n",
      "-------------------------\n"
     ]
    }
   ],
   "source": [
    "a= np.random.randint(5,20, size=9).reshape(3,3)\n",
    "b= np.random.randint(5,20, size=9).reshape(3,3)\n",
    "c= np.concatenate([a,b],axis=1) # axis =1  col  ====> add col  ===> horizontal (hstack)\n",
    "print(a)\n",
    "print('-------------------------')\n",
    "print(b)\n",
    "print('-------------------------')\n",
    "print(c)\n",
    "print('-------------------------')"
   ]
  },
  {
   "cell_type": "code",
   "execution_count": 42,
   "metadata": {},
   "outputs": [
    {
     "name": "stdout",
     "output_type": "stream",
     "text": [
      "[[ 8 11 19]\n",
      " [11  9  8]\n",
      " [10 13  6]]\n",
      "-------------------------\n",
      "19\n",
      "-------------------------\n",
      "6\n",
      "-------------------------\n",
      "2\n",
      "-------------------------\n",
      "8\n"
     ]
    }
   ],
   "source": [
    "import numpy as np\n",
    "a =np.random.randint(5,20, size=9).reshape(3,3)\n",
    "b = np.max(a) #اكبر قيمة\n",
    "c = np.min(a)\n",
    "d = np.argmax(a) # مكان القيمة الاكبر(ترتيبها)\n",
    "e = np.argmin(a) # مكان ال min\n",
    "print(a)\n",
    "print('-------------------------')\n",
    "print(b)\n",
    "print('-------------------------')\n",
    "print(c)\n",
    "print('-------------------------')\n",
    "print(d)\n",
    "print('-------------------------')\n",
    "print(e)"
   ]
  },
  {
   "cell_type": "code",
   "execution_count": 43,
   "metadata": {},
   "outputs": [
    {
     "name": "stdout",
     "output_type": "stream",
     "text": [
      "[[16  7  5]\n",
      " [ 5 14 13]\n",
      " [ 9  7 15]]\n",
      "-------------------------\n",
      "17.209876543209877\n",
      "-------------------------\n",
      "[[ 34.33333333 -27.83333333 -10.66666667]\n",
      " [-27.83333333  24.33333333   3.66666667]\n",
      " [-10.66666667   3.66666667  17.33333333]]\n"
     ]
    }
   ],
   "source": [
    "#variance and covariance\n",
    "import numpy as np\n",
    "a =np.random.randint(5,20, size=9).reshape(3,3)\n",
    "b =np.var(a)\n",
    "c = np.cov(a)\n",
    "print(a)\n",
    "print('-------------------------')\n",
    "print(b)\n",
    "print('-------------------------')\n",
    "print(c)"
   ]
  },
  {
   "cell_type": "code",
   "execution_count": 1,
   "metadata": {},
   "outputs": [],
   "source": [
    "#############################################العمليات الرياضية للمصفوفات###############################################"
   ]
  },
  {
   "cell_type": "code",
   "execution_count": 9,
   "metadata": {},
   "outputs": [
    {
     "name": "stdout",
     "output_type": "stream",
     "text": [
      "[[11 17  5]\n",
      " [14 19 16]\n",
      " [10 16 16]]\n",
      "-------------------------\n",
      "[[ 8 17 16]\n",
      " [19 18 16]\n",
      " [10 19 16]]\n",
      "-------------------------\n",
      "[[19 34 21]\n",
      " [33 37 32]\n",
      " [20 35 32]]\n",
      "-------------------------\n",
      "[[  3   0 -11]\n",
      " [ -5   1   0]\n",
      " [  0  -3   0]]\n",
      "-------------------------\n",
      "[[18 24 12]\n",
      " [21 26 23]\n",
      " [17 23 23]]\n"
     ]
    }
   ],
   "source": [
    "import numpy as np\n",
    "a=np.random.randint(5,20,size=9).reshape(3,3)\n",
    "b=np.random.randint(5,20,size=9).reshape(3,3)\n",
    "c=a+b #بجمع كل عنصر مع المقابل ليه\n",
    "d=a-b#بطرح كل عنصر من المقابل ليه\n",
    "e=a+7 #هيجمع ال7 على كل العناصر\n",
    "print(a)\n",
    "print('-------------------------')\n",
    "print(b)\n",
    "print('-------------------------')\n",
    "print(c)\n",
    "print('-------------------------')\n",
    "print(d)\n",
    "print('-------------------------')\n",
    "print(e)"
   ]
  },
  {
   "cell_type": "code",
   "execution_count": 13,
   "metadata": {},
   "outputs": [
    {
     "name": "stdout",
     "output_type": "stream",
     "text": [
      "[[ 7 12  5]\n",
      " [13  9 11]\n",
      " [13  6  7]]\n",
      "-------------------------\n",
      "[[ 7  5 16]\n",
      " [ 7 16 12]\n",
      " [17 15  9]]\n",
      "-------------------------\n",
      "[[ 49  60  80]\n",
      " [ 91 144 132]\n",
      " [221  90  63]]\n",
      "-------------------------\n",
      "[[1.         2.4        0.3125    ]\n",
      " [1.85714286 0.5625     0.91666667]\n",
      " [0.76470588 0.4        0.77777778]]\n"
     ]
    }
   ],
   "source": [
    "import numpy as np\n",
    "a =np.random.randint(5,20, size=9).reshape(3,3)\n",
    "b =np.random.randint(5,20, size=9).reshape(3,3)\n",
    "c = a*b #ضرب عادى كل عنصر فى المقابل له\n",
    "d = a/b\n",
    "print(a)\n",
    "print('-------------------------')\n",
    "print(b)\n",
    "print('-------------------------')\n",
    "print(c)\n",
    "print('-------------------------')\n",
    "print(d)"
   ]
  },
  {
   "cell_type": "code",
   "execution_count": 10,
   "metadata": {},
   "outputs": [
    {
     "name": "stdout",
     "output_type": "stream",
     "text": [
      "[[13 15 16]\n",
      " [14 19 12]\n",
      " [12 13 17]]\n",
      "-------------------------\n",
      "[[ 9  9 12]\n",
      " [ 6  5 15]\n",
      " [16 12 13]]\n",
      "-------------------------\n",
      "[[39 45 48]\n",
      " [42 57 36]\n",
      " [36 39 51]]\n",
      "-------------------------\n",
      "[[1.8 1.8 2.4]\n",
      " [1.2 1.  3. ]\n",
      " [3.2 2.4 2.6]]\n"
     ]
    }
   ],
   "source": [
    "import numpy as np\n",
    "a =np.random.randint(5,20, size=9).reshape(3,3)\n",
    "b =np.random.randint(5,20, size=9).reshape(3,3)\n",
    "c = a*3 #كل عنصر ف 3\n",
    "d = b/5\n",
    "print(a)\n",
    "print('-------------------------')\n",
    "print(b)\n",
    "print('-------------------------')\n",
    "print(c)\n",
    "print('-------------------------')\n",
    "print(d)"
   ]
  },
  {
   "cell_type": "code",
   "execution_count": 15,
   "metadata": {},
   "outputs": [
    {
     "name": "stdout",
     "output_type": "stream",
     "text": [
      "[[19  6 10]\n",
      " [12 15  8]\n",
      " [14  7 14]]\n",
      "-------------------------\n",
      "[[ 6 13  8]\n",
      " [ 5 12 19]\n",
      " [13  9 16]]\n",
      "-------------------------\n",
      "[[ 0.14987721 -0.2794155  -0.54402111]\n",
      " [-0.53657292  0.65028784  0.98935825]\n",
      " [ 0.99060736  0.6569866   0.99060736]]\n",
      "-------------------------\n",
      "[[ 36 169  64]\n",
      " [ 25 144 361]\n",
      " [169  81 256]]\n",
      "-------------------------\n",
      "[[2.94443898 1.79175947 2.30258509]\n",
      " [2.48490665 2.7080502  2.07944154]\n",
      " [2.63905733 1.94591015 2.63905733]]\n"
     ]
    }
   ],
   "source": [
    "import numpy as np\n",
    "a =np.random.randint(5,20, size=9).reshape(3,3)\n",
    "b =np.random.randint(5,20, size=9).reshape(3,3)\n",
    "c = np.sin(a) #ساين لكل عناصر a\n",
    "d = b**2 #ربع كل عنصر\n",
    "e = np.log(a) #لوج كل عنصر\n",
    "print(a)\n",
    "print('-------------------------')\n",
    "print(b)\n",
    "print('-------------------------')\n",
    "print(c)\n",
    "print('-------------------------')\n",
    "print(d)\n",
    "print('-------------------------')\n",
    "print(e)"
   ]
  },
  {
   "cell_type": "code",
   "execution_count": null,
   "metadata": {},
   "outputs": [],
   "source": []
  },
  {
   "cell_type": "code",
   "execution_count": null,
   "metadata": {},
   "outputs": [],
   "source": []
  }
 ],
 "metadata": {
  "kernelspec": {
   "display_name": "Python 3",
   "language": "python",
   "name": "python3"
  },
  "language_info": {
   "codemirror_mode": {
    "name": "ipython",
    "version": 3
   },
   "file_extension": ".py",
   "mimetype": "text/x-python",
   "name": "python",
   "nbconvert_exporter": "python",
   "pygments_lexer": "ipython3",
   "version": "3.8.5"
  }
 },
 "nbformat": 4,
 "nbformat_minor": 4
}
